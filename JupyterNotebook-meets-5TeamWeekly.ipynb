{
 "cells": [
  {
   "cell_type": "markdown",
   "metadata": {
    "slideshow": {
     "slide_type": "slide"
    }
   },
   "source": [
    "# JupyterNotebook meets <font color='orange'>5</font><font color='#1B9AC'>Team</font>Weekly"
   ]
  },
  {
   "cell_type": "markdown",
   "metadata": {
    "slideshow": {
     "slide_type": "fragment"
    }
   },
   "source": [
    "## Was ist Jupyter-Notebook?"
   ]
  },
  {
   "cell_type": "markdown",
   "metadata": {
    "slideshow": {
     "slide_type": "subslide"
    }
   },
   "source": [
    "## IPython"
   ]
  },
  {
   "cell_type": "markdown",
   "metadata": {
    "slideshow": {
     "slide_type": "fragment"
    }
   },
   "source": [
    "- entstanden 2001\n",
    "- als interaktive Entwicklungsumgebung in Konkurenz zu den kommerziellen Lösungen wie Matlab und Co.\n",
    "- es entstand im Rahmen der *SciPy*-Softwareumgebung\n",
    "- Softwaretechnisch basiertend auf:\n",
    "  - *tornado*-Webserver\n",
    "  - *0MQ*-Messaging-Middleware \n",
    "  - Websockets\n",
    "  - Speicherformat ist JSON und zwar je Dokument"
   ]
  },
  {
   "cell_type": "markdown",
   "metadata": {
    "slideshow": {
     "slide_type": "subslide"
    }
   },
   "source": [
    "## Jupyter-Notebook"
   ]
  },
  {
   "cell_type": "markdown",
   "metadata": {
    "slideshow": {
     "slide_type": "fragment"
    }
   },
   "source": [
    "- seit 2014 als *spin-off project* um\n",
    "  - Abtrennung der sprachneutralen Teile in Jupyter (Notebook und Kommunikationskomponenten)\n",
    "  - Auslagern des Kernels IPython\n",
    "  - Ausdehnen auf Sprachen wie \n",
    "    - *R*, *Julia*, *Ruby* \n",
    "    - später auch auf *F#*, *C#*, *Scala*, JavaScript/TypeScript (und [DotNetCore](https://devblogs.microsoft.com/dotnet/net-core-with-juypter-notebooks-is-here-preview-1/))\n",
    "    - und viele viele weitere"
   ]
  },
  {
   "cell_type": "markdown",
   "metadata": {
    "slideshow": {
     "slide_type": "subslide"
    }
   },
   "source": [
    "## Was heißt das Jetzt?"
   ]
  },
  {
   "cell_type": "markdown",
   "metadata": {
    "slideshow": {
     "slide_type": "fragment"
    }
   },
   "source": [
    "- leistungsstarken Kombination von\n",
    "  - Code\n",
    "  - Grafiken\n",
    "  - beschreibendem Text \n",
    "- Anwendungsbereiche\n",
    "  - Data Science-Anleitung\n",
    "  - Datenbereinigung und -transformation\n",
    "  - numerische Simulation\n",
    "  - statistische Modellierung\n",
    "  - Entwicklung von Machine Learning-Modellen."
   ]
  },
  {
   "cell_type": "markdown",
   "metadata": {
    "slideshow": {
     "slide_type": "slide"
    }
   },
   "source": [
    "# Beispiele"
   ]
  },
  {
   "cell_type": "markdown",
   "metadata": {
    "slideshow": {
     "slide_type": "subslide"
    }
   },
   "source": [
    "## Hello world mit *Code*"
   ]
  },
  {
   "cell_type": "code",
   "execution_count": 1,
   "metadata": {
    "ExecuteTime": {
     "end_time": "2019-11-21T19:53:47.974790Z",
     "start_time": "2019-11-21T19:53:47.967892Z"
    },
    "slideshow": {
     "slide_type": "fragment"
    }
   },
   "outputs": [
    {
     "name": "stdout",
     "output_type": "stream",
     "text": [
      "3.7.4 (default, Jul 28 2019, 15:46:27) \n",
      "[Clang 11.0.0 (clang-1100.0.20.17)]\n",
      "hello world\n"
     ]
    }
   ],
   "source": [
    "# Einfacher Code\n",
    "import sys\n",
    "print(sys.version)\n",
    "print(\"hello world\")"
   ]
  },
  {
   "cell_type": "markdown",
   "metadata": {
    "slideshow": {
     "slide_type": "subslide"
    }
   },
   "source": [
    "## Hello world mit *Markdown*\n"
   ]
  },
  {
   "cell_type": "markdown",
   "metadata": {
    "slideshow": {
     "slide_type": "fragment"
    }
   },
   "source": [
    "\n",
    "Es werden auch *Zellen* für die Dokumentation mittels **Markdown** unterstützt."
   ]
  },
  {
   "cell_type": "markdown",
   "metadata": {
    "slideshow": {
     "slide_type": "fragment"
    }
   },
   "source": [
    "- Spiegelstrich 11\n",
    "- Spiegelstrich 2"
   ]
  },
  {
   "cell_type": "markdown",
   "metadata": {
    "slideshow": {
     "slide_type": "fragment"
    }
   },
   "source": [
    "1. Aufzählung 1\n",
    "1. Aufzählung 2"
   ]
  },
  {
   "cell_type": "markdown",
   "metadata": {
    "slideshow": {
     "slide_type": "subslide"
    }
   },
   "source": [
    "## Hello world mit *Shell-Kommando*"
   ]
  },
  {
   "cell_type": "code",
   "execution_count": 2,
   "metadata": {
    "ExecuteTime": {
     "end_time": "2019-11-21T19:53:48.130429Z",
     "start_time": "2019-11-21T19:53:47.984953Z"
    },
    "slideshow": {
     "slide_type": "fragment"
    }
   },
   "outputs": [
    {
     "name": "stdout",
     "output_type": "stream",
     "text": [
      "JupyterNotebook-meets-5TeamWeekly.ipynb pivottablejs.html\r\n",
      "README.md                               postBuild\r\n",
      "\u001b[1m\u001b[36m_assets\u001b[m\u001b[m                                 requirements.txt\r\n",
      "\u001b[1m\u001b[36mpapermill_sample\u001b[m\u001b[m\r\n"
     ]
    }
   ],
   "source": [
    "!ls"
   ]
  },
  {
   "cell_type": "markdown",
   "metadata": {
    "slideshow": {
     "slide_type": "subslide"
    }
   },
   "source": [
    "## Hello world mit *Jupyter Macros*"
   ]
  },
  {
   "cell_type": "code",
   "execution_count": 3,
   "metadata": {
    "ExecuteTime": {
     "end_time": "2019-11-21T19:53:48.197021Z",
     "start_time": "2019-11-21T19:53:48.136016Z"
    },
    "slideshow": {
     "slide_type": "fragment"
    }
   },
   "outputs": [
    {
     "name": "stdout",
     "output_type": "stream",
     "text": [
      "Available objects for config:\n",
      "     AliasManager\n",
      "     DisplayFormatter\n",
      "     HistoryManager\n",
      "     IPCompleter\n",
      "     IPKernelApp\n",
      "     LoggingMagics\n",
      "     MagicsManager\n",
      "     OSMagics\n",
      "     PrefilterManager\n",
      "     ScriptMagics\n",
      "     StoreMagics\n",
      "     ZMQInteractiveShell\n"
     ]
    }
   ],
   "source": [
    "# https://ipython.readthedocs.io/en/stable/interactive/magics.html\n",
    "# %env || %config || %history\n",
    "%config"
   ]
  },
  {
   "cell_type": "markdown",
   "metadata": {
    "slideshow": {
     "slide_type": "subslide"
    }
   },
   "source": [
    "## REST-Services verwenden"
   ]
  },
  {
   "cell_type": "code",
   "execution_count": 4,
   "metadata": {
    "ExecuteTime": {
     "end_time": "2019-11-21T19:53:48.502147Z",
     "start_time": "2019-11-21T19:53:48.203552Z"
    },
    "slideshow": {
     "slide_type": "fragment"
    }
   },
   "outputs": [],
   "source": [
    "import json\n",
    "import requests"
   ]
  },
  {
   "cell_type": "code",
   "execution_count": 5,
   "metadata": {
    "ExecuteTime": {
     "end_time": "2019-11-21T19:53:48.973401Z",
     "start_time": "2019-11-21T19:53:48.515378Z"
    },
    "slideshow": {
     "slide_type": "fragment"
    }
   },
   "outputs": [
    {
     "name": "stdout",
     "output_type": "stream",
     "text": [
      "0 -> Neujahrstag: {'datum': '2019-01-01', 'hinweis': ''}\n",
      "1 -> Karfreitag: {'datum': '2019-04-19', 'hinweis': ''}\n",
      "2 -> Ostermontag: {'datum': '2019-04-22', 'hinweis': ''}\n",
      "3 -> Tag der Arbeit: {'datum': '2019-05-01', 'hinweis': ''}\n"
     ]
    }
   ],
   "source": [
    "request_freedays = requests.get('https://feiertage-api.de/api/?jahr=2019')\n",
    "str_data = request_freedays.content.decode(\"utf-8\")\n",
    "freedays = json.loads(str_data)\n",
    "\n",
    "for index, key in enumerate(freedays['NW'].keys()):\n",
    "    print(\"{} -> {}: {}\".format(index, key, freedays['NW'][key]))\n",
    "    if index == 3:\n",
    "        break"
   ]
  },
  {
   "cell_type": "markdown",
   "metadata": {
    "slideshow": {
     "slide_type": "skip"
    }
   },
   "source": [
    "## OAuth zum Zugriff auf externe Daten mit **ipyauth**"
   ]
  },
  {
   "cell_type": "markdown",
   "metadata": {
    "slideshow": {
     "slide_type": "skip"
    }
   },
   "source": [
    "- OAuth ist heute typisch für den Zugriff auf APIs\n",
    "- OAuth-*Token* im Notebook speichern >> Sicherheitsproblem"
   ]
  },
  {
   "cell_type": "markdown",
   "metadata": {
    "slideshow": {
     "slide_type": "skip"
    }
   },
   "source": [
    "### ipyauth Demo"
   ]
  },
  {
   "cell_type": "markdown",
   "metadata": {
    "slideshow": {
     "slide_type": "skip"
    }
   },
   "source": [
    "- **???**\n",
    "- [OAuth2 from inside a Jupyter Notebook](https://medium.com/@olivier.borderies/oauth2-from-inside-a-jupyter-notebook-5f5e61ec5d38)"
   ]
  },
  {
   "cell_type": "markdown",
   "metadata": {
    "slideshow": {
     "slide_type": "slide"
    }
   },
   "source": [
    "# Hilfreiche Bibliotheken"
   ]
  },
  {
   "cell_type": "markdown",
   "metadata": {
    "slideshow": {
     "slide_type": "subslide"
    }
   },
   "source": [
    "## pandas - Umgang mit Daten bzw. Listen"
   ]
  },
  {
   "cell_type": "markdown",
   "metadata": {
    "slideshow": {
     "slide_type": "fragment"
    }
   },
   "source": [
    "- Umgang mit großen Datenmengen (bis ca. 100 GB)\n",
    "- Lesen und schreiben von Daten aus unterschiedlichen Datenquellen (CSV, Excel, JSON, SQL-Datenbank und Datendateien wie HDF und co.)\n",
    "- Gruppierung, Pivotierung, Mergen, \"Join\"en und Filtern"
   ]
  },
  {
   "cell_type": "markdown",
   "metadata": {
    "slideshow": {
     "slide_type": "subslide"
    }
   },
   "source": [
    "## Demo zu pandas"
   ]
  },
  {
   "cell_type": "code",
   "execution_count": 6,
   "metadata": {
    "ExecuteTime": {
     "end_time": "2019-11-21T19:53:49.915246Z",
     "start_time": "2019-11-21T19:53:48.978416Z"
    },
    "slideshow": {
     "slide_type": "fragment"
    }
   },
   "outputs": [
    {
     "name": "stdout",
     "output_type": "stream",
     "text": [
      "<class 'pandas.core.frame.DataFrame'>\n",
      "RangeIndex: 18625 entries, 0 to 18624\n",
      "Data columns (total 11 columns):\n",
      "Unnamed: 0        18625 non-null int64\n",
      "score_phrase      18625 non-null object\n",
      "title             18625 non-null object\n",
      "url               18625 non-null object\n",
      "platform          18625 non-null object\n",
      "score             18625 non-null float64\n",
      "genre             18589 non-null object\n",
      "editors_choice    18625 non-null object\n",
      "release_year      18625 non-null int64\n",
      "release_month     18625 non-null int64\n",
      "release_day       18625 non-null int64\n",
      "dtypes: float64(1), int64(4), object(6)\n",
      "memory usage: 1.6+ MB\n"
     ]
    }
   ],
   "source": [
    "import pandas\n",
    "df = pandas.read_csv(\"_assets/ign.csv\")\n",
    "df.info()"
   ]
  },
  {
   "cell_type": "markdown",
   "metadata": {
    "slideshow": {
     "slide_type": "subslide"
    }
   },
   "source": [
    "## pandas - Report"
   ]
  },
  {
   "cell_type": "code",
   "execution_count": 7,
   "metadata": {
    "ExecuteTime": {
     "end_time": "2019-11-21T19:53:49.960637Z",
     "start_time": "2019-11-21T19:53:49.920102Z"
    },
    "slideshow": {
     "slide_type": "fragment"
    }
   },
   "outputs": [
    {
     "data": {
      "text/html": [
       "<div>\n",
       "<style scoped>\n",
       "    .dataframe tbody tr th:only-of-type {\n",
       "        vertical-align: middle;\n",
       "    }\n",
       "\n",
       "    .dataframe tbody tr th {\n",
       "        vertical-align: top;\n",
       "    }\n",
       "\n",
       "    .dataframe thead th {\n",
       "        text-align: right;\n",
       "    }\n",
       "</style>\n",
       "<table border=\"1\" class=\"dataframe\">\n",
       "  <thead>\n",
       "    <tr style=\"text-align: right;\">\n",
       "      <th></th>\n",
       "      <th>Unnamed: 0</th>\n",
       "      <th>score_phrase</th>\n",
       "      <th>title</th>\n",
       "      <th>url</th>\n",
       "      <th>platform</th>\n",
       "      <th>score</th>\n",
       "      <th>genre</th>\n",
       "      <th>editors_choice</th>\n",
       "      <th>release_year</th>\n",
       "      <th>release_month</th>\n",
       "      <th>release_day</th>\n",
       "    </tr>\n",
       "  </thead>\n",
       "  <tbody>\n",
       "    <tr>\n",
       "      <td>0</td>\n",
       "      <td>0</td>\n",
       "      <td>Amazing</td>\n",
       "      <td>LittleBigPlanet PS Vita</td>\n",
       "      <td>/games/littlebigplanet-vita/vita-98907</td>\n",
       "      <td>PlayStation Vita</td>\n",
       "      <td>9.0</td>\n",
       "      <td>Platformer</td>\n",
       "      <td>Y</td>\n",
       "      <td>2012</td>\n",
       "      <td>9</td>\n",
       "      <td>12</td>\n",
       "    </tr>\n",
       "    <tr>\n",
       "      <td>1</td>\n",
       "      <td>1</td>\n",
       "      <td>Amazing</td>\n",
       "      <td>LittleBigPlanet PS Vita -- Marvel Super Hero E...</td>\n",
       "      <td>/games/littlebigplanet-ps-vita-marvel-super-he...</td>\n",
       "      <td>PlayStation Vita</td>\n",
       "      <td>9.0</td>\n",
       "      <td>Platformer</td>\n",
       "      <td>Y</td>\n",
       "      <td>2012</td>\n",
       "      <td>9</td>\n",
       "      <td>12</td>\n",
       "    </tr>\n",
       "    <tr>\n",
       "      <td>2</td>\n",
       "      <td>2</td>\n",
       "      <td>Great</td>\n",
       "      <td>Splice: Tree of Life</td>\n",
       "      <td>/games/splice/ipad-141070</td>\n",
       "      <td>iPad</td>\n",
       "      <td>8.5</td>\n",
       "      <td>Puzzle</td>\n",
       "      <td>N</td>\n",
       "      <td>2012</td>\n",
       "      <td>9</td>\n",
       "      <td>12</td>\n",
       "    </tr>\n",
       "    <tr>\n",
       "      <td>3</td>\n",
       "      <td>3</td>\n",
       "      <td>Great</td>\n",
       "      <td>NHL 13</td>\n",
       "      <td>/games/nhl-13/xbox-360-128182</td>\n",
       "      <td>Xbox 360</td>\n",
       "      <td>8.5</td>\n",
       "      <td>Sports</td>\n",
       "      <td>N</td>\n",
       "      <td>2012</td>\n",
       "      <td>9</td>\n",
       "      <td>11</td>\n",
       "    </tr>\n",
       "    <tr>\n",
       "      <td>4</td>\n",
       "      <td>4</td>\n",
       "      <td>Great</td>\n",
       "      <td>NHL 13</td>\n",
       "      <td>/games/nhl-13/ps3-128181</td>\n",
       "      <td>PlayStation 3</td>\n",
       "      <td>8.5</td>\n",
       "      <td>Sports</td>\n",
       "      <td>N</td>\n",
       "      <td>2012</td>\n",
       "      <td>9</td>\n",
       "      <td>11</td>\n",
       "    </tr>\n",
       "  </tbody>\n",
       "</table>\n",
       "</div>"
      ],
      "text/plain": [
       "   Unnamed: 0 score_phrase                                              title  \\\n",
       "0           0      Amazing                            LittleBigPlanet PS Vita   \n",
       "1           1      Amazing  LittleBigPlanet PS Vita -- Marvel Super Hero E...   \n",
       "2           2        Great                               Splice: Tree of Life   \n",
       "3           3        Great                                             NHL 13   \n",
       "4           4        Great                                             NHL 13   \n",
       "\n",
       "                                                 url          platform  score  \\\n",
       "0             /games/littlebigplanet-vita/vita-98907  PlayStation Vita    9.0   \n",
       "1  /games/littlebigplanet-ps-vita-marvel-super-he...  PlayStation Vita    9.0   \n",
       "2                          /games/splice/ipad-141070              iPad    8.5   \n",
       "3                      /games/nhl-13/xbox-360-128182          Xbox 360    8.5   \n",
       "4                           /games/nhl-13/ps3-128181     PlayStation 3    8.5   \n",
       "\n",
       "        genre editors_choice  release_year  release_month  release_day  \n",
       "0  Platformer              Y          2012              9           12  \n",
       "1  Platformer              Y          2012              9           12  \n",
       "2      Puzzle              N          2012              9           12  \n",
       "3      Sports              N          2012              9           11  \n",
       "4      Sports              N          2012              9           11  "
      ]
     },
     "execution_count": 7,
     "metadata": {},
     "output_type": "execute_result"
    }
   ],
   "source": [
    "df[:5]"
   ]
  },
  {
   "cell_type": "markdown",
   "metadata": {
    "slideshow": {
     "slide_type": "subslide"
    }
   },
   "source": [
    "## pandas - Filter"
   ]
  },
  {
   "cell_type": "code",
   "execution_count": 8,
   "metadata": {
    "ExecuteTime": {
     "end_time": "2019-11-21T19:53:50.013230Z",
     "start_time": "2019-11-21T19:53:49.969705Z"
    },
    "slideshow": {
     "slide_type": "fragment"
    }
   },
   "outputs": [
    {
     "data": {
      "text/html": [
       "<div>\n",
       "<style scoped>\n",
       "    .dataframe tbody tr th:only-of-type {\n",
       "        vertical-align: middle;\n",
       "    }\n",
       "\n",
       "    .dataframe tbody tr th {\n",
       "        vertical-align: top;\n",
       "    }\n",
       "\n",
       "    .dataframe thead th {\n",
       "        text-align: right;\n",
       "    }\n",
       "</style>\n",
       "<table border=\"1\" class=\"dataframe\">\n",
       "  <thead>\n",
       "    <tr style=\"text-align: right;\">\n",
       "      <th></th>\n",
       "      <th>Unnamed: 0</th>\n",
       "      <th>score_phrase</th>\n",
       "      <th>title</th>\n",
       "      <th>url</th>\n",
       "      <th>platform</th>\n",
       "      <th>score</th>\n",
       "      <th>genre</th>\n",
       "      <th>editors_choice</th>\n",
       "      <th>release_year</th>\n",
       "      <th>release_month</th>\n",
       "      <th>release_day</th>\n",
       "    </tr>\n",
       "  </thead>\n",
       "  <tbody>\n",
       "    <tr>\n",
       "      <td>4</td>\n",
       "      <td>4</td>\n",
       "      <td>Great</td>\n",
       "      <td>NHL 13</td>\n",
       "      <td>/games/nhl-13/ps3-128181</td>\n",
       "      <td>PlayStation 3</td>\n",
       "      <td>8.5</td>\n",
       "      <td>Sports</td>\n",
       "      <td>N</td>\n",
       "      <td>2012</td>\n",
       "      <td>9</td>\n",
       "      <td>11</td>\n",
       "    </tr>\n",
       "    <tr>\n",
       "      <td>8</td>\n",
       "      <td>8</td>\n",
       "      <td>Awful</td>\n",
       "      <td>Double Dragon: Neon</td>\n",
       "      <td>/games/double-dragon-neon/ps3-131321</td>\n",
       "      <td>PlayStation 3</td>\n",
       "      <td>3.0</td>\n",
       "      <td>Fighting</td>\n",
       "      <td>N</td>\n",
       "      <td>2012</td>\n",
       "      <td>9</td>\n",
       "      <td>11</td>\n",
       "    </tr>\n",
       "    <tr>\n",
       "      <td>10</td>\n",
       "      <td>10</td>\n",
       "      <td>Good</td>\n",
       "      <td>Tekken Tag Tournament 2</td>\n",
       "      <td>/games/tekken-tag-tournament-2/ps3-124584</td>\n",
       "      <td>PlayStation 3</td>\n",
       "      <td>7.5</td>\n",
       "      <td>Fighting</td>\n",
       "      <td>N</td>\n",
       "      <td>2012</td>\n",
       "      <td>9</td>\n",
       "      <td>11</td>\n",
       "    </tr>\n",
       "    <tr>\n",
       "      <td>18</td>\n",
       "      <td>18</td>\n",
       "      <td>Mediocre</td>\n",
       "      <td>Way of the Samurai 4</td>\n",
       "      <td>/games/way-of-the-samurai-4/ps3-23516</td>\n",
       "      <td>PlayStation 3</td>\n",
       "      <td>5.5</td>\n",
       "      <td>Action, Adventure</td>\n",
       "      <td>N</td>\n",
       "      <td>2012</td>\n",
       "      <td>9</td>\n",
       "      <td>3</td>\n",
       "    </tr>\n",
       "    <tr>\n",
       "      <td>20</td>\n",
       "      <td>20</td>\n",
       "      <td>Good</td>\n",
       "      <td>JoJo's Bizarre Adventure HD</td>\n",
       "      <td>/games/jojos-bizarre-adventure/ps3-137896</td>\n",
       "      <td>PlayStation 3</td>\n",
       "      <td>7.0</td>\n",
       "      <td>Fighting</td>\n",
       "      <td>N</td>\n",
       "      <td>2012</td>\n",
       "      <td>9</td>\n",
       "      <td>3</td>\n",
       "    </tr>\n",
       "  </tbody>\n",
       "</table>\n",
       "</div>"
      ],
      "text/plain": [
       "    Unnamed: 0 score_phrase                        title  \\\n",
       "4            4        Great                       NHL 13   \n",
       "8            8        Awful          Double Dragon: Neon   \n",
       "10          10         Good      Tekken Tag Tournament 2   \n",
       "18          18     Mediocre         Way of the Samurai 4   \n",
       "20          20         Good  JoJo's Bizarre Adventure HD   \n",
       "\n",
       "                                          url       platform  score  \\\n",
       "4                    /games/nhl-13/ps3-128181  PlayStation 3    8.5   \n",
       "8        /games/double-dragon-neon/ps3-131321  PlayStation 3    3.0   \n",
       "10  /games/tekken-tag-tournament-2/ps3-124584  PlayStation 3    7.5   \n",
       "18      /games/way-of-the-samurai-4/ps3-23516  PlayStation 3    5.5   \n",
       "20  /games/jojos-bizarre-adventure/ps3-137896  PlayStation 3    7.0   \n",
       "\n",
       "                genre editors_choice  release_year  release_month  release_day  \n",
       "4              Sports              N          2012              9           11  \n",
       "8            Fighting              N          2012              9           11  \n",
       "10           Fighting              N          2012              9           11  \n",
       "18  Action, Adventure              N          2012              9            3  \n",
       "20           Fighting              N          2012              9            3  "
      ]
     },
     "execution_count": 8,
     "metadata": {},
     "output_type": "execute_result"
    }
   ],
   "source": [
    "for_platform = 'PlayStation 3' # 'PlayStation 3' || 'iPad' || 'PC'\n",
    "platform_filter = df['platform'] == for_platform\n",
    "filtered_df = df[platform_filter]\n",
    "\n",
    "filtered_df[:5]"
   ]
  },
  {
   "cell_type": "markdown",
   "metadata": {
    "slideshow": {
     "slide_type": "subslide"
    }
   },
   "source": [
    "## matplot - Daten in Diagrammen darstellen"
   ]
  },
  {
   "cell_type": "code",
   "execution_count": 9,
   "metadata": {
    "ExecuteTime": {
     "end_time": "2019-11-21T19:53:50.471633Z",
     "start_time": "2019-11-21T19:53:50.028350Z"
    },
    "slideshow": {
     "slide_type": "fragment"
    }
   },
   "outputs": [
    {
     "data": {
      "image/png": "[encoded data removed]",
      "text/plain": [
       "<Figure size 432x288 with 1 Axes>"
      ]
     },
     "metadata": {
      "needs_background": "light"
     },
     "output_type": "display_data"
    }
   ],
   "source": [
    "%matplotlib inline\n",
    "import matplotlib.pyplot as plt\n",
    "\n",
    "filtered_df.plot(kind='scatter', x='release_year', y='score',color='red')\n",
    "plt.show()"
   ]
  },
  {
   "cell_type": "markdown",
   "metadata": {
    "slideshow": {
     "slide_type": "subslide"
    }
   },
   "source": [
    "## matplot - Alternativen und ihre Eignung"
   ]
  },
  {
   "cell_type": "markdown",
   "metadata": {
    "slideshow": {
     "slide_type": "fragment"
    }
   },
   "source": [
    "- [Plotly bzw. Plotly.express](https://towardsdatascience.com/introduction-to-interactive-time-series-visualizations-with-plotly-in-python-d3219eb7a7af) - Interaktive, highlevel Charts mit sehr vielen Varianten (siehe kommende Demo).\n",
    "\n",
    "- [Dash](https://towardsdatascience.com/python-for-finance-dash-by-plotly-ccf84045b8be) - Interaktive Charts für Dashboards, eigentlich mehr für Standalone-Anwendungen, aber mit [jupyterlab-dash](https://github.com/plotly/jupyterlab-dash) auch für Jupyter-Notebook geeignet.\n",
    "\n",
    "- [Seaborn](https://towardsdatascience.com/a-step-by-step-guide-for-creating-advanced-python-data-visualizations-with-seaborn-matplotlib-1579d6a1a7d0) - Highlevel Version von matplot zur Darstellung von statistisch orientierten Grafiken.\n",
    "\n",
    "- [Bokeh](https://link.medium.com/GNjTZpjmz0) - Leistungsfähige Grafik- und Chart-Biblothek zur Verwendung in Jupyter. Für mehr Infos siehe Demos im [Tutorial](https://mybinder.org/v2/gh/bokeh/bokeh-notebooks/master?filepath=tutorial%2F00%20-%20Introduction%20and%20Setup.ipynb)"
   ]
  },
  {
   "cell_type": "markdown",
   "metadata": {
    "slideshow": {
     "slide_type": "subslide"
    }
   },
   "source": [
    "## Kleines Demo zu *Plotly.express*"
   ]
  },
  {
   "cell_type": "code",
   "execution_count": 17,
   "metadata": {
    "ExecuteTime": {
     "end_time": "2019-11-21T19:55:27.327655Z",
     "start_time": "2019-11-21T19:55:26.975958Z"
    },
    "scrolled": true,
    "slideshow": {
     "slide_type": "fragment"
    }
   },
   "outputs": [
    {
     "data": {
      "application/vnd.plotly.v1+json": {
       "config": {
        "plotlyServerURL": "https://plot.ly"
       },
       "data": [
        {
         "hoverlabel": {
          "namelength": 0
         },
         "hovertemplate": "release_year=%{x}<br>score=%{y}",
         "legendgroup": "",
         "marker": {
          "color": "#636efa",
          "symbol": "circle"
         },
         "mode": "markers",
         "name": "",
         "showlegend": false,
         "type": "scattergl",
         "x": [
          2012,
          2012,
          2012,
          2012,
          2012,
          2012,
          2012,
          2012,
          2012,
          2012,
          2012,
          2012,
          2012,
          2012,
          2012,
          2012,
          2012,
          2012,
          2012,
          2012,
          2012,
          2012,
          2012,
          2012,
          2012,
          2012,
          2012,
          2012,
          2012,
          2012,
          2012,
          2012,
          2012,
          2012,
          2012,
          2012,
          2012,
          2012,
          2012,
          2012,
          2012,
          2012,
          2012,
          2012,
          2012,
          2012,
          2012,
          2012,
          2012,
          2012,
          2012,
          2012,
          2012,
          2012,
          2012,
          2012,
          2012,
          2012,
          2012,
          2012,
          2012,
          2012,
          2012,
          2012,
          2012,
          2012,
          2012,
          2012,
          2012,
          2012,
          2013,
          2012,
          2012,
          2013,
          2013,
          2012,
          2012,
          2012,
          2012,
          2013,
          2012,
          2013,
          2012,
          2012,
          2006,
          2006,
          2006,
          2006,
          2006,
          2006,
          2006,
          2006,
          2006,
          2006,
          2006,
          2006,
          2006,
          2006,
          2006,
          2006,
          2006,
          2006,
          2006,
          2007,
          2006,
          2006,
          2007,
          2007,
          2007,
          2007,
          2007,
          2007,
          2007,
          2007,
          2007,
          2007,
          2007,
          2007,
          2007,
          2007,
          2007,
          2007,
          2007,
          2007,
          2007,
          2007,
          2007,
          2007,
          2007,
          2007,
          2007,
          2007,
          2007,
          2007,
          2007,
          2007,
          2007,
          2007,
          2007,
          2007,
          2007,
          2007,
          2007,
          2007,
          2007,
          2007,
          2007,
          2007,
          2007,
          2007,
          2007,
          2007,
          2007,
          2007,
          2007,
          2007,
          2007,
          2007,
          2007,
          2007,
          2007,
          2007,
          2007,
          2007,
          2007,
          2007,
          2007,
          2007,
          2007,
          2007,
          2007,
          2007,
          2007,
          2007,
          2007,
          2007,
          2007,
          2007,
          2007,
          2007,
          2007,
          2007,
          2007,
          2007,
          2007,
          2007,
          2007,
          2007,
          2007,
          2007,
          2007,
          2007,
          2007,
          2007,
          2007,
          2007,
          2007,
          2007,
          2007,
          2007,
          2007,
          2007,
          2007,
          2007,
          2007,
          2007,
          2007,
          2007,
          2007,
          2007,
          2007,
          2007,
          2007,
          2007,
          2007,
          2008,
          2008,
          2007,
          2008,
          2008,
          2008,
          2007,
          2007,
          2008,
          2008,
          2008,
          2007,
          2007,
          2008,
          2008,
          2008,
          2008,
          2008,
          2008,
          2008,
          2008,
          2008,
          2008,
          2008,
          2008,
          2008,
          2008,
          2008,
          2008,
          2008,
          2008,
          2008,
          2008,
          2008,
          2008,
          2008,
          2008,
          2008,
          2008,
          2008,
          2008,
          2008,
          2008,
          2008,
          2008,
          2008,
          2008,
          2008,
          2008,
          2008,
          2008,
          2008,
          2008,
          2008,
          2008,
          2008,
          2008,
          2008,
          2008,
          2008,
          2008,
          2008,
          2008,
          2008,
          2008,
          2008,
          2008,
          2008,
          2008,
          2008,
          2008,
          2008,
          2008,
          2008,
          2008,
          2008,
          2008,
          2008,
          2008,
          2008,
          2008,
          2008,
          2008,
          2008,
          2008,
          2008,
          2008,
          2008,
          2008,
          2008,
          2008,
          2008,
          2008,
          2008,
          2008,
          2008,
          2008,
          2008,
          2008,
          2008,
          2008,
          2008,
          2008,
          2008,
          2008,
          2008,
          2008,
          2008,
          2008,
          2008,
          2008,
          2008,
          2008,
          2008,
          2008,
          2008,
          2008,
          2008,
          2008,
          2008,
          2008,
          2008,
          2008,
          2008,
          2008,
          2008,
          2008,
          2008,
          2008,
          2008,
          2008,
          2008,
          2008,
          2008,
          2008,
          2008,
          2008,
          2008,
          2008,
          2008,
          2008,
          2008,
          2008,
          2008,
          2008,
          2008,
          2008,
          2008,
          2008,
          2008,
          2008,
          2008,
          2008,
          2008,
          2008,
          2008,
          2008,
          2008,
          2008,
          2008,
          2008,
          2008,
          2008,
          2008,
          2008,
          2008,
          2008,
          2008,
          2008,
          2008,
          2008,
          2008,
          2008,
          2008,
          2008,
          2008,
          2008,
          2008,
          2008,
          2008,
          2008,
          2008,
          2008,
          2008,
          2008,
          2008,
          2008,
          2008,
          2008,
          2008,
          2008,
          2008,
          2008,
          2008,
          2008,
          2009,
          2009,
          2009,
          2009,
          2009,
          2009,
          2009,
          2009,
          2009,
          2009,
          2009,
          2009,
          2009,
          2009,
          2009,
          2009,
          2009,
          2009,
          2009,
          2009,
          2009,
          2009,
          2009,
          2009,
          2009,
          2009,
          2009,
          2009,
          2009,
          2009,
          2009,
          2009,
          2009,
          2009,
          2009,
          2009,
          2009,
          2009,
          2009,
          2009,
          2009,
          2009,
          2009,
          2009,
          2009,
          2009,
          2009,
          2009,
          2009,
          2009,
          2009,
          2009,
          2009,
          2009,
          2009,
          2009,
          2009,
          2009,
          2009,
          2009,
          2009,
          2009,
          2009,
          2009,
          2009,
          2009,
          2009,
          2009,
          2009,
          2009,
          2009,
          2009,
          2009,
          2009,
          2009,
          2009,
          2009,
          2009,
          2009,
          2009,
          2009,
          2009,
          2009,
          2009,
          2009,
          2009,
          2009,
          2009,
          2009,
          2009,
          2009,
          2009,
          2009,
          2009,
          2009,
          2009,
          2009,
          2009,
          2009,
          2009,
          2009,
          2009,
          2009,
          2009,
          2009,
          2009,
          2009,
          2009,
          2009,
          2009,
          2009,
          2009,
          2009,
          2009,
          2009,
          2009,
          2009,
          2009,
          2009,
          2009,
          2009,
          2009,
          2009,
          2009,
          2009,
          2009,
          2009,
          2009,
          2009,
          2009,
          2009,
          2009,
          2009,
          2009,
          2009,
          2009,
          2009,
          2009,
          2009,
          2009,
          2009,
          2009,
          2009,
          2009,
          2009,
          2009,
          2009,
          2009,
          2009,
          2009,
          2009,
          2009,
          2009,
          2009,
          2009,
          2009,
          2009,
          2009,
          2009,
          2009,
          2009,
          2009,
          2009,
          2009,
          2009,
          2009,
          2009,
          2009,
          2009,
          2009,
          2009,
          2009,
          2009,
          2009,
          2009,
          2009,
          2009,
          2009,
          2009,
          2009,
          2009,
          2009,
          2009,
          2009,
          2009,
          2009,
          2009,
          2009,
          2009,
          2009,
          2009,
          2009,
          2009,
          2009,
          2009,
          2009,
          2009,
          2009,
          2009,
          2009,
          2009,
          2009,
          2009,
          2009,
          2009,
          2009,
          2009,
          2009,
          2009,
          2009,
          2009,
          2009,
          2009,
          2009,
          2010,
          2010,
          2010,
          2010,
          2010,
          2010,
          2010,
          2009,
          2010,
          2010,
          2010,
          2010,
          2010,
          2010,
          2010,
          2010,
          2010,
          2010,
          2010,
          2010,
          2010,
          2010,
          2010,
          2010,
          2010,
          2010,
          2010,
          2010,
          2010,
          2010,
          2010,
          2010,
          2010,
          2010,
          2010,
          2010,
          2010,
          2010,
          2010,
          2010,
          2010,
          2010,
          2010,
          2010,
          2010,
          2010,
          2010,
          2010,
          2010,
          2010,
          2010,
          2010,
          2010,
          2010,
          2010,
          2010,
          2010,
          2010,
          2010,
          2010,
          2010,
          2010,
          2010,
          2010,
          2010,
          2010,
          2010,
          2010,
          2010,
          2010,
          2010,
          2010,
          2010,
          2010,
          2010,
          2010,
          2010,
          2010,
          2010,
          2010,
          2010,
          2010,
          2010,
          2010,
          2010,
          2010,
          2010,
          2010,
          2010,
          2010,
          2010,
          2010,
          2010,
          2010,
          2010,
          2010,
          2010,
          2010,
          2010,
          2010,
          2010,
          2010,
          2010,
          2010,
          2010,
          2010,
          2010,
          2010,
          2010,
          2010,
          2010,
          2010,
          2010,
          2010,
          2010,
          2010,
          2010,
          2010,
          2010,
          2010,
          2010,
          2010,
          2010,
          2010,
          2010,
          2010,
          2010,
          2010,
          2010,
          2010,
          2010,
          2010,
          2010,
          2010,
          2010,
          2010,
          2010,
          2010,
          2010,
          2010,
          2010,
          2010,
          2010,
          2010,
          2010,
          2010,
          2010,
          2010,
          2010,
          2010,
          2010,
          2010,
          2010,
          2010,
          2010,
          2010,
          2010,
          2010,
          2010,
          2010,
          2010,
          2010,
          2010,
          2010,
          2010,
          2010,
          2010,
          2010,
          2010,
          2010,
          2010,
          2010,
          2010,
          2010,
          2010,
          2010,
          2010,
          2010,
          2010,
          2010,
          2010,
          2010,
          2010,
          2010,
          2010,
          2010,
          2010,
          2010,
          2010,
          2010,
          2010,
          2010,
          2010,
          2010,
          2010,
          2010,
          2010,
          2010,
          2010,
          2010,
          2010,
          2010,
          2010,
          2010,
          2010,
          2010,
          2010,
          2011,
          2011,
          2011,
          2011,
          2011,
          2011,
          2011,
          2011,
          2011,
          2010,
          2011,
          2011,
          2010,
          2011,
          2011,
          2011,
          2011,
          2010,
          2010,
          2010,
          2010,
          2011,
          2011,
          2011,
          2011,
          2011,
          2011,
          2011,
          2011,
          2011,
          2011,
          2011,
          2011,
          2011,
          2011,
          2011,
          2011,
          2011,
          2011,
          2011,
          2011,
          2011,
          2011,
          2011,
          2011,
          2011,
          2011,
          2011,
          2011,
          2011,
          2011,
          2011,
          2011,
          2011,
          2011,
          2011,
          2011,
          2011,
          2011,
          2011,
          2011,
          2011,
          2011,
          2011,
          2011,
          2011,
          2011,
          2011,
          2011,
          2011,
          2011,
          2011,
          2011,
          2011,
          2011,
          2011,
          2011,
          2011,
          2011,
          2011,
          2011,
          2011,
          2011,
          2011,
          2011,
          2011,
          2011,
          2011,
          2011,
          2011,
          2011,
          2011,
          2011,
          2011,
          2011,
          2011,
          2011,
          2011,
          2011,
          2011,
          2011,
          2011,
          2011,
          2011,
          2011,
          2011,
          2011,
          2011,
          2011,
          2011,
          2011,
          2011,
          2011,
          2011,
          2011,
          2011,
          2011,
          2011,
          2011,
          2011,
          2011,
          2011,
          2011,
          2011,
          2011,
          2011,
          2011,
          2011,
          2011,
          2011,
          2011,
          2011,
          2011,
          2011,
          2011,
          2011,
          2011,
          2011,
          2011,
          2011,
          2011,
          2011,
          2011,
          2011,
          2011,
          2011,
          2011,
          2011,
          2011,
          2011,
          2011,
          2011,
          2011,
          2011,
          2011,
          2011,
          2011,
          2011,
          2011,
          2011,
          2011,
          2011,
          2011,
          2011,
          2011,
          2011,
          2011,
          2011,
          2011,
          2011,
          2011,
          2011,
          2011,
          2011,
          2011,
          2011,
          2011,
          2011,
          2011,
          2011,
          2011,
          2011,
          2011,
          2011,
          2011,
          2011,
          2011,
          2011,
          2011,
          2011,
          2011,
          2011,
          2011,
          2011,
          2011,
          2011,
          2011,
          2011,
          2011,
          2011,
          2011,
          2011,
          2011,
          2011,
          2011,
          2011,
          2011,
          2011,
          2011,
          2011,
          2011,
          2011,
          2011,
          2011,
          2011,
          2011,
          2011,
          2011,
          2011,
          2011,
          2011,
          2011,
          2011,
          2011,
          2011,
          2011,
          2011,
          2011,
          2011,
          2011,
          2011,
          2011,
          2011,
          2011,
          2012,
          2012,
          2012,
          2012,
          2012,
          2012,
          2012,
          2012,
          2012,
          2012,
          2012,
          2012,
          2012,
          2012,
          2012,
          2012,
          2012,
          2012,
          2012,
          2012,
          2012,
          2012,
          2012,
          2012,
          2012,
          2012,
          2012,
          2012,
          2012,
          2012,
          2012,
          2012,
          2012,
          2012,
          2012,
          2012,
          2012,
          2012,
          2012,
          2012,
          2012,
          2012,
          2012,
          2012,
          2012,
          2012,
          2012,
          2012,
          2012,
          2012,
          2012,
          2012,
          2012,
          2012,
          2012,
          2012,
          2012,
          2012,
          2012,
          2012,
          2012,
          2012,
          2012,
          2012,
          2012,
          2012,
          2012,
          2012,
          2012,
          2012,
          2012,
          2012,
          2012,
          2012,
          2012,
          2012,
          2012,
          2012,
          2012,
          2012,
          2012,
          2012,
          2012,
          2012,
          2012,
          2012,
          2012,
          2012,
          2013,
          2012,
          2012,
          2013,
          2012,
          2012,
          2013,
          2012,
          2013,
          2013,
          2013,
          2013,
          2013,
          2013,
          2013,
          2013,
          2013,
          2013,
          2013,
          2013,
          2013,
          2013,
          2013,
          2013,
          2013,
          2013,
          2013,
          2013,
          2013,
          2013,
          2013,
          2013,
          2013,
          2013,
          2013,
          2013,
          2013,
          2013,
          2013,
          2013,
          2013,
          2013,
          2013,
          2013,
          2013,
          2013,
          2013,
          2013,
          2013,
          2013,
          2013,
          2013,
          2013,
          2013,
          2013,
          2013,
          2013,
          2013,
          2013,
          2013,
          2013,
          2013,
          2013,
          2013,
          2013,
          2013,
          2013,
          2013,
          2013,
          2013,
          2013,
          2013,
          2013,
          2013,
          2013,
          2013,
          2013,
          2013,
          2013,
          2013,
          2013,
          2013,
          2013,
          2013,
          2013,
          2013,
          2013,
          2013,
          2013,
          2013,
          2013,
          2013,
          2013,
          2013,
          2013,
          2013,
          2013,
          2013,
          2013,
          2013,
          2013,
          2013,
          2013,
          2013,
          2013,
          2013,
          2013,
          2013,
          2013,
          2013,
          2013,
          2013,
          2013,
          2013,
          2013,
          2013,
          2013,
          2013,
          2013,
          2013,
          2013,
          2013,
          2013,
          2014,
          2014,
          2013,
          2013,
          2013,
          2013,
          2013,
          2013,
          2014,
          2014,
          2014,
          2014,
          2014,
          2013,
          2014,
          2014,
          2014,
          2014,
          2014,
          2014,
          2014,
          2014,
          2014,
          2014,
          2014,
          2014,
          2014,
          2014,
          2014,
          2014,
          2014,
          2014,
          2014,
          2014,
          2014,
          2014,
          2014,
          2014,
          2014,
          2014,
          2014,
          2014,
          2014,
          2014,
          2014,
          2014,
          2014,
          2014,
          2014,
          2014,
          2014,
          2014,
          2014,
          2014,
          2014,
          2014,
          2014,
          2014,
          2014,
          2014,
          2014,
          2014,
          2014,
          2014,
          2014,
          2014,
          2014,
          2014,
          2014,
          2014,
          2014,
          2015,
          2014,
          2015,
          2014,
          2014,
          2015,
          2015,
          2015,
          2016
         ],
         "xaxis": "x",
         "y": [
          8.5,
          3,
          7.5,
          5.5,
          7,
          7.5,
          6.5,
          4.9,
          9,
          8.5,
          7.9,
          8,
          9,
          9.1,
          8.2,
          8.8,
          4,
          8.5,
          5.5,
          8.2,
          3.9,
          6,
          7.6,
          2.3,
          7.5,
          8,
          9,
          7,
          8.5,
          7.5,
          4,
          7.5,
          7.4,
          8,
          7.5,
          9,
          6,
          8.2,
          9.2,
          7,
          4.5,
          5.3,
          5,
          9,
          8.5,
          9,
          9,
          9,
          8,
          7,
          9.4,
          7.8,
          9,
          8.5,
          8.4,
          5.2,
          5.5,
          9.3,
          6.5,
          5,
          9.5,
          7.6,
          9,
          6.4,
          4.1,
          6,
          7.5,
          6.9,
          8.6,
          9.3,
          9.4,
          6,
          9.3,
          6.9,
          8.5,
          9,
          9,
          8.3,
          6,
          5.9,
          6.8,
          7.7,
          9.2,
          8,
          7,
          6,
          8.6,
          8.2,
          7.8,
          9.1,
          7.9,
          6.5,
          7.9,
          8.3,
          7.8,
          8.5,
          3.2,
          5.9,
          4.1,
          8.3,
          7.8,
          8.3,
          7.5,
          7,
          7.1,
          7,
          4.2,
          8.8,
          7.6,
          8.8,
          5,
          7.2,
          8.9,
          7.4,
          8.3,
          6.7,
          8.2,
          7.5,
          7.3,
          5.9,
          9.2,
          8.5,
          8.1,
          2.9,
          7.3,
          7.9,
          6.5,
          5.5,
          6,
          6,
          7.7,
          5.6,
          6.1,
          5.2,
          4.3,
          2.8,
          5.4,
          6.2,
          8.7,
          6.3,
          9.3,
          8.7,
          8,
          5.7,
          7.8,
          7.7,
          7.6,
          5,
          7.6,
          7.3,
          7.7,
          7.5,
          6.5,
          8.5,
          7,
          8.3,
          7,
          6.8,
          7.1,
          8.5,
          4.9,
          8.8,
          8.8,
          8.4,
          5.2,
          8.6,
          6.5,
          8,
          7.5,
          6,
          6.9,
          9,
          7.9,
          2.1,
          7.1,
          7.9,
          7.9,
          8,
          7.9,
          8,
          8.9,
          9.4,
          5.6,
          6.7,
          7.5,
          7.7,
          8.1,
          6.8,
          5.5,
          9.4,
          6.5,
          7,
          9.1,
          8,
          8,
          7.5,
          8,
          9.4,
          6.8,
          9.4,
          6.5,
          8.1,
          7.5,
          7.5,
          6.1,
          4,
          7.9,
          7.6,
          6.2,
          7,
          6.9,
          7,
          6.2,
          6.8,
          9.5,
          6.7,
          4.5,
          7.3,
          8,
          8.8,
          8,
          3.5,
          8.4,
          8.5,
          8.7,
          7,
          7.4,
          9,
          8.7,
          3,
          5.9,
          5.5,
          6.9,
          4.5,
          8.7,
          5.5,
          4,
          5,
          7.9,
          5.5,
          6.7,
          7.2,
          5,
          8.9,
          8.2,
          8.2,
          7.7,
          6.3,
          8,
          8.6,
          6.4,
          6.3,
          10,
          6,
          8.5,
          8.5,
          10,
          8.2,
          8.5,
          8.1,
          6.3,
          3.8,
          7.9,
          8.6,
          5.3,
          8.7,
          4.5,
          8.5,
          10,
          3.5,
          7.5,
          6.2,
          7.9,
          7.2,
          6,
          7.3,
          8,
          5.9,
          10,
          7.6,
          7.6,
          6,
          3.5,
          7.9,
          8.6,
          8.8,
          8.6,
          7.8,
          4.5,
          8.7,
          8.7,
          7,
          3.5,
          7,
          8.5,
          7,
          8.4,
          8.5,
          8.4,
          9.4,
          7.7,
          8.4,
          5.2,
          8.8,
          9.1,
          7.4,
          8.6,
          5,
          8,
          6.8,
          7.9,
          6.7,
          6.4,
          3,
          7.3,
          8.1,
          9,
          4.5,
          7,
          9,
          8.2,
          2.5,
          8.6,
          7.6,
          9,
          7.7,
          7.6,
          7.8,
          7,
          8.9,
          4.9,
          5.9,
          5.2,
          5.5,
          9.4,
          6.7,
          8.6,
          9.3,
          7.7,
          9.5,
          6.5,
          8.7,
          6.5,
          9,
          6.5,
          8.2,
          8.3,
          3.2,
          7.5,
          8.5,
          8.2,
          8.8,
          8.5,
          9,
          7.9,
          5.5,
          7.9,
          7.9,
          7.8,
          3,
          3,
          8.7,
          8.4,
          7,
          8.4,
          5,
          4.5,
          8,
          7.8,
          8.6,
          9.4,
          7.8,
          2.3,
          9.4,
          9.5,
          9.5,
          9.4,
          3.3,
          6.5,
          9.2,
          4.7,
          7.4,
          7.2,
          7.1,
          7.5,
          7.1,
          7.5,
          6,
          5.5,
          7.4,
          5.5,
          5.1,
          7.5,
          6.2,
          5,
          4,
          7.2,
          7.2,
          8.7,
          4.9,
          7.3,
          6.8,
          9.3,
          6.2,
          6.8,
          4.5,
          9.3,
          8.5,
          8,
          8.5,
          6.5,
          5.2,
          9,
          7,
          7,
          8.3,
          7.5,
          9.4,
          6.6,
          6.6,
          5.9,
          7,
          7,
          6,
          9.3,
          9,
          8.1,
          9,
          4.6,
          7,
          7.1,
          6,
          7,
          8,
          5.5,
          6.8,
          9.3,
          6.8,
          8.7,
          5.2,
          9,
          7.8,
          9,
          8,
          7.8,
          7.9,
          6,
          8.9,
          8.3,
          2,
          6.7,
          4.8,
          6.5,
          7.3,
          7.7,
          5.8,
          2.3,
          5,
          2.3,
          5.6,
          8.5,
          4.9,
          6.9,
          8.5,
          5.9,
          7.4,
          7.7,
          7.8,
          9.2,
          2,
          8.5,
          7.6,
          6.3,
          8,
          8,
          8,
          8.1,
          7.3,
          8,
          5.1,
          6.5,
          7.5,
          8.3,
          2.5,
          3.5,
          8,
          6.9,
          8,
          8,
          7,
          6,
          8.8,
          6.5,
          7.5,
          6,
          7,
          6.8,
          6,
          7,
          7.7,
          9.4,
          8.3,
          9.4,
          8.5,
          8,
          9,
          9,
          4.2,
          6.5,
          7.5,
          5,
          7.3,
          7.2,
          5.8,
          9,
          9.2,
          6,
          8.9,
          5.5,
          4.5,
          7.5,
          6.5,
          7,
          9.3,
          7,
          9.5,
          8.5,
          4.5,
          6.7,
          7.7,
          8.9,
          6.6,
          5,
          9.3,
          9.5,
          8,
          9,
          6.6,
          8.7,
          8.2,
          8.6,
          5.9,
          6.5,
          8.5,
          8.4,
          9,
          7,
          8,
          6,
          8.4,
          4.8,
          8.1,
          7.5,
          7.8,
          7.5,
          9.4,
          8.5,
          8.5,
          9,
          6.6,
          8.6,
          8.5,
          3.5,
          7.8,
          9,
          9,
          8.8,
          6.5,
          4,
          8,
          6.8,
          8.2,
          8.5,
          9.4,
          6.2,
          5.1,
          9,
          5,
          9,
          8.8,
          7,
          8.7,
          7,
          4.7,
          7.5,
          7.9,
          9.5,
          6.8,
          7.9,
          5.3,
          9,
          8.7,
          9,
          6,
          7.8,
          9.2,
          9,
          4.9,
          5,
          9.4,
          8.5,
          6.5,
          4.5,
          6.5,
          7.9,
          7,
          9.5,
          6.2,
          7.7,
          9.5,
          9.5,
          5.5,
          7.5,
          7.8,
          7.2,
          6.9,
          5,
          6.8,
          6.4,
          9.1,
          7.5,
          7,
          1.5,
          8,
          7.9,
          6,
          7.8,
          4.9,
          4.6,
          7.5,
          5.1,
          8.2,
          7,
          7.3,
          5,
          7.4,
          7.3,
          9.1,
          9.1,
          6.5,
          7,
          8,
          7,
          6,
          9,
          3,
          8.9,
          8.9,
          8.8,
          8.9,
          8.5,
          7,
          7.4,
          7.5,
          8.5,
          6.8,
          8.5,
          9.3,
          8.9,
          7,
          7.5,
          8,
          6,
          8.8,
          3.5,
          9,
          8.5,
          8,
          5,
          7,
          5,
          4.5,
          4.5,
          4.5,
          7.5,
          6.7,
          2.5,
          4,
          7,
          8.3,
          4.6,
          9.2,
          7.5,
          6,
          8.7,
          8.8,
          5.1,
          7.2,
          7,
          8.5,
          7,
          9,
          8,
          7,
          6,
          9,
          5.5,
          8,
          9.7,
          8.5,
          2.5,
          8.5,
          7.8,
          9.5,
          7,
          6.5,
          7,
          8.5,
          7.5,
          5,
          8,
          9,
          5,
          9.3,
          4,
          4,
          8.3,
          8.5,
          6,
          6.5,
          6.5,
          7.5,
          8.9,
          7,
          7.5,
          8.5,
          4.5,
          8,
          7,
          6,
          8.5,
          7.5,
          3.5,
          5,
          7,
          7,
          8,
          6.5,
          8.5,
          8.5,
          8,
          8,
          8.5,
          7,
          3.5,
          4.5,
          6,
          4.5,
          5,
          8.5,
          8,
          8.5,
          7.5,
          8.5,
          5,
          6,
          9,
          5.5,
          8,
          4.5,
          6,
          8.5,
          4,
          5,
          8.9,
          5.5,
          9.5,
          8,
          4.5,
          6,
          8,
          7,
          7.5,
          8,
          3.5,
          6.5,
          5.5,
          8,
          4,
          2.5,
          8.5,
          7,
          8,
          8.5,
          8,
          8,
          4,
          8.5,
          6,
          6,
          8,
          7.5,
          5.5,
          4,
          10,
          9,
          8.5,
          7.5,
          4.5,
          8,
          7,
          7.5,
          5,
          5,
          7.5,
          6,
          6,
          8.5,
          5.5,
          6.5,
          7,
          5,
          7.5,
          2,
          8,
          4,
          3,
          7.5,
          7.5,
          6,
          5.5,
          8.5,
          6.5,
          4,
          8.5,
          7.5,
          8,
          5.5,
          6.5,
          6,
          10,
          7.5,
          4.5,
          9,
          4,
          9.5,
          7,
          8.5,
          8,
          7,
          7.5,
          6.5,
          8,
          8,
          8,
          8.5,
          8.5,
          8,
          6.5,
          7,
          7,
          6,
          6.5,
          6,
          5.5,
          8.5,
          8,
          8.5,
          6.5,
          5,
          3.5,
          6,
          8,
          8,
          6,
          8.5,
          5.5,
          6,
          9,
          7,
          8,
          8.5,
          9,
          7,
          7,
          6,
          6.5,
          9,
          7.5,
          5,
          8.5,
          5,
          8,
          7,
          8.5,
          8.5,
          7.5,
          5.5,
          4.5,
          5.5,
          6.5,
          6,
          6,
          6,
          7,
          7,
          3,
          7.5,
          6,
          8,
          7.5,
          8.5,
          8.5,
          8,
          5,
          8,
          4,
          8,
          9.5,
          6,
          9,
          7,
          5,
          6,
          8.5,
          9,
          7,
          7,
          6,
          9,
          6.5,
          7.5,
          5.5,
          8.5,
          6.5,
          8,
          7.5,
          8.5,
          4,
          4,
          6,
          7,
          8,
          3.5,
          6,
          5,
          5.5,
          7,
          6.5,
          6.5,
          8,
          4.5,
          4.5,
          8.5,
          8.5,
          8,
          6.5,
          6.5,
          4.5,
          5,
          6,
          7.5,
          6.5,
          6,
          6.5,
          6.5,
          7,
          5.5,
          7,
          7,
          9,
          8,
          9,
          9,
          5,
          9,
          8.5,
          8,
          5,
          7.5,
          8.5,
          7.5,
          8.5,
          8.5,
          9,
          8,
          9,
          7,
          6,
          6,
          9,
          8,
          7,
          6,
          6.5,
          8,
          8.5,
          8.5,
          8.5,
          7.5,
          7,
          8.5,
          7.5,
          9,
          8,
          9,
          5.5,
          5,
          6.5,
          9.5,
          6.5,
          9.5,
          8.5,
          7,
          8,
          7.5,
          9.5,
          8,
          7.5,
          7.5,
          4.5,
          8,
          4,
          8,
          5.5,
          8,
          8,
          5.5,
          7.5,
          7,
          7.5,
          5.5,
          8.5,
          4.5,
          7,
          5,
          6.5,
          7.5,
          7,
          9.5,
          9,
          7.5,
          7.5,
          10,
          8.5,
          7,
          8.5,
          9,
          8.5,
          6.5,
          7.5,
          9,
          8,
          8,
          3,
          8.5,
          9.5,
          4.5,
          6.5,
          8.5,
          7,
          8.5,
          4,
          8,
          8,
          5.5,
          7.5,
          8,
          5,
          9,
          4,
          7,
          8,
          6.5,
          7,
          7.5,
          8,
          3,
          8.5,
          7,
          8,
          5.5,
          7.5,
          2,
          8,
          9,
          8.5,
          9,
          6.5,
          9,
          8,
          8,
          8.5,
          9,
          4,
          7,
          8,
          4,
          9,
          3,
          8,
          4.5,
          8.5,
          8.5,
          5,
          4.5,
          6.5,
          4.5,
          8.5,
          9.5,
          9,
          8.5,
          8.5,
          7,
          9,
          9,
          6.5,
          7.5,
          9,
          7.5,
          8.5,
          7.5,
          7.5,
          7.5,
          6.5,
          8.5,
          6.5,
          8.5,
          9,
          5.5,
          6,
          6,
          8.5,
          8.5,
          7.5,
          7.5,
          6.5,
          4,
          8,
          9,
          9,
          9,
          6,
          7,
          7,
          8,
          8.5,
          8.5,
          5,
          5.5,
          8.5,
          7.5,
          8,
          7,
          8.5,
          8.5,
          8,
          5,
          5.5,
          5.5,
          5.5,
          8.5,
          8,
          7.8,
          3,
          6.5,
          8,
          8,
          7,
          8,
          8,
          7.9,
          9,
          9.1,
          7.5,
          8.5,
          6.2,
          8.2,
          8.5,
          3.7,
          4.5,
          9.4,
          8.6,
          7.8,
          4.5,
          9.1,
          8.8,
          7.5,
          8.2,
          9,
          9,
          8,
          5.4,
          8.4,
          5,
          9.3,
          9.5,
          5.8,
          8,
          6.5,
          8,
          2.5,
          7.5,
          7.5,
          7.9,
          4.2,
          7,
          6.8,
          7.2,
          7.2,
          8,
          5.2,
          4.9,
          8,
          5.6,
          8.9,
          8.1,
          6,
          9.2,
          7.4,
          8.7,
          8.3,
          9,
          10,
          8,
          5.9,
          9.2,
          8.4,
          8.7,
          10,
          5,
          6.2,
          7.3,
          7.5,
          8,
          8.6,
          8.5,
          9.5,
          9,
          8.3,
          8.5,
          8.5,
          5.8,
          7,
          7,
          5.5,
          8.3,
          8.2,
          8,
          8.5,
          9,
          7.4,
          7.7,
          9,
          6,
          5.5,
          7.6,
          7,
          9.1,
          8,
          3,
          4,
          9.3,
          9,
          6.5,
          9,
          9,
          8.4,
          8.8,
          3.5,
          8.2,
          8.6,
          8.2,
          7,
          8.5,
          8,
          8.7,
          7.4,
          7.8,
          5.4,
          9,
          3.5,
          8,
          7,
          6.5,
          4.5,
          9.5,
          5.2,
          8,
          8,
          5.5,
          7,
          3.5,
          4.8,
          3,
          8,
          8.2,
          6.5,
          7,
          7,
          7.5,
          6.5,
          7.7,
          6.6,
          9,
          8.5,
          9.3,
          9.3,
          9.5,
          5.8,
          9,
          6.5,
          6.5,
          5.6,
          6.2,
          8,
          9,
          9.2,
          6.8,
          8.1,
          7,
          8.5,
          5.4,
          9.3,
          4.9,
          9,
          7.5,
          4.5,
          8.3,
          8,
          6,
          4,
          7,
          7.6,
          7.5,
          4.8,
          4.8,
          7.8,
          8.7,
          7.5,
          8,
          7.4,
          7,
          8,
          8.8,
          6.7,
          7,
          9.1,
          7.8,
          9.5,
          8,
          7.3,
          9.1,
          7.8,
          6.8,
          9,
          8.5,
          8,
          8.5,
          8.1,
          8.4,
          2,
          9,
          7,
          7.9,
          9
         ],
         "yaxis": "y"
        }
       ],
       "layout": {
        "height": 600,
        "legend": {
         "tracegroupgap": 0
        },
        "margin": {
         "t": 60
        },
        "template": {
         "data": {
          "bar": [
           {
            "error_x": {
             "color": "#f2f5fa"
            },
            "error_y": {
             "color": "#f2f5fa"
            },
            "marker": {
             "line": {
              "color": "rgb(17,17,17)",
              "width": 0.5
             }
            },
            "type": "bar"
           }
          ],
          "barpolar": [
           {
            "marker": {
             "line": {
              "color": "rgb(17,17,17)",
              "width": 0.5
             }
            },
            "type": "barpolar"
           }
          ],
          "carpet": [
           {
            "aaxis": {
             "endlinecolor": "#A2B1C6",
             "gridcolor": "#506784",
             "linecolor": "#506784",
             "minorgridcolor": "#506784",
             "startlinecolor": "#A2B1C6"
            },
            "baxis": {
             "endlinecolor": "#A2B1C6",
             "gridcolor": "#506784",
             "linecolor": "#506784",
             "minorgridcolor": "#506784",
             "startlinecolor": "#A2B1C6"
            },
            "type": "carpet"
           }
          ],
          "choropleth": [
           {
            "colorbar": {
             "outlinewidth": 0,
             "ticks": ""
            },
            "type": "choropleth"
           }
          ],
          "contour": [
           {
            "colorbar": {
             "outlinewidth": 0,
             "ticks": ""
            },
            "colorscale": [
             [
              0,
              "#0d0887"
             ],
             [
              0.1111111111111111,
              "#46039f"
             ],
             [
              0.2222222222222222,
              "#7201a8"
             ],
             [
              0.3333333333333333,
              "#9c179e"
             ],
             [
              0.4444444444444444,
              "#bd3786"
             ],
             [
              0.5555555555555556,
              "#d8576b"
             ],
             [
              0.6666666666666666,
              "#ed7953"
             ],
             [
              0.7777777777777778,
              "#fb9f3a"
             ],
             [
              0.8888888888888888,
              "#fdca26"
             ],
             [
              1,
              "#f0f921"
             ]
            ],
            "type": "contour"
           }
          ],
          "contourcarpet": [
           {
            "colorbar": {
             "outlinewidth": 0,
             "ticks": ""
            },
            "type": "contourcarpet"
           }
          ],
          "heatmap": [
           {
            "colorbar": {
             "outlinewidth": 0,
             "ticks": ""
            },
            "colorscale": [
             [
              0,
              "#0d0887"
             ],
             [
              0.1111111111111111,
              "#46039f"
             ],
             [
              0.2222222222222222,
              "#7201a8"
             ],
             [
              0.3333333333333333,
              "#9c179e"
             ],
             [
              0.4444444444444444,
              "#bd3786"
             ],
             [
              0.5555555555555556,
              "#d8576b"
             ],
             [
              0.6666666666666666,
              "#ed7953"
             ],
             [
              0.7777777777777778,
              "#fb9f3a"
             ],
             [
              0.8888888888888888,
              "#fdca26"
             ],
             [
              1,
              "#f0f921"
             ]
            ],
            "type": "heatmap"
           }
          ],
          "heatmapgl": [
           {
            "colorbar": {
             "outlinewidth": 0,
             "ticks": ""
            },
            "colorscale": [
             [
              0,
              "#0d0887"
             ],
             [
              0.1111111111111111,
              "#46039f"
             ],
             [
              0.2222222222222222,
              "#7201a8"
             ],
             [
              0.3333333333333333,
              "#9c179e"
             ],
             [
              0.4444444444444444,
              "#bd3786"
             ],
             [
              0.5555555555555556,
              "#d8576b"
             ],
             [
              0.6666666666666666,
              "#ed7953"
             ],
             [
              0.7777777777777778,
              "#fb9f3a"
             ],
             [
              0.8888888888888888,
              "#fdca26"
             ],
             [
              1,
              "#f0f921"
             ]
            ],
            "type": "heatmapgl"
           }
          ],
          "histogram": [
           {
            "marker": {
             "colorbar": {
              "outlinewidth": 0,
              "ticks": ""
             }
            },
            "type": "histogram"
           }
          ],
          "histogram2d": [
           {
            "colorbar": {
             "outlinewidth": 0,
             "ticks": ""
            },
            "colorscale": [
             [
              0,
              "#0d0887"
             ],
             [
              0.1111111111111111,
              "#46039f"
             ],
             [
              0.2222222222222222,
              "#7201a8"
             ],
             [
              0.3333333333333333,
              "#9c179e"
             ],
             [
              0.4444444444444444,
              "#bd3786"
             ],
             [
              0.5555555555555556,
              "#d8576b"
             ],
             [
              0.6666666666666666,
              "#ed7953"
             ],
             [
              0.7777777777777778,
              "#fb9f3a"
             ],
             [
              0.8888888888888888,
              "#fdca26"
             ],
             [
              1,
              "#f0f921"
             ]
            ],
            "type": "histogram2d"
           }
          ],
          "histogram2dcontour": [
           {
            "colorbar": {
             "outlinewidth": 0,
             "ticks": ""
            },
            "colorscale": [
             [
              0,
              "#0d0887"
             ],
             [
              0.1111111111111111,
              "#46039f"
             ],
             [
              0.2222222222222222,
              "#7201a8"
             ],
             [
              0.3333333333333333,
              "#9c179e"
             ],
             [
              0.4444444444444444,
              "#bd3786"
             ],
             [
              0.5555555555555556,
              "#d8576b"
             ],
             [
              0.6666666666666666,
              "#ed7953"
             ],
             [
              0.7777777777777778,
              "#fb9f3a"
             ],
             [
              0.8888888888888888,
              "#fdca26"
             ],
             [
              1,
              "#f0f921"
             ]
            ],
            "type": "histogram2dcontour"
           }
          ],
          "mesh3d": [
           {
            "colorbar": {
             "outlinewidth": 0,
             "ticks": ""
            },
            "type": "mesh3d"
           }
          ],
          "parcoords": [
           {
            "line": {
             "colorbar": {
              "outlinewidth": 0,
              "ticks": ""
             }
            },
            "type": "parcoords"
           }
          ],
          "scatter": [
           {
            "marker": {
             "line": {
              "color": "#283442"
             }
            },
            "type": "scatter"
           }
          ],
          "scatter3d": [
           {
            "line": {
             "colorbar": {
              "outlinewidth": 0,
              "ticks": ""
             }
            },
            "marker": {
             "colorbar": {
              "outlinewidth": 0,
              "ticks": ""
             }
            },
            "type": "scatter3d"
           }
          ],
          "scattercarpet": [
           {
            "marker": {
             "colorbar": {
              "outlinewidth": 0,
              "ticks": ""
             }
            },
            "type": "scattercarpet"
           }
          ],
          "scattergeo": [
           {
            "marker": {
             "colorbar": {
              "outlinewidth": 0,
              "ticks": ""
             }
            },
            "type": "scattergeo"
           }
          ],
          "scattergl": [
           {
            "marker": {
             "line": {
              "color": "#283442"
             }
            },
            "type": "scattergl"
           }
          ],
          "scattermapbox": [
           {
            "marker": {
             "colorbar": {
              "outlinewidth": 0,
              "ticks": ""
             }
            },
            "type": "scattermapbox"
           }
          ],
          "scatterpolar": [
           {
            "marker": {
             "colorbar": {
              "outlinewidth": 0,
              "ticks": ""
             }
            },
            "type": "scatterpolar"
           }
          ],
          "scatterpolargl": [
           {
            "marker": {
             "colorbar": {
              "outlinewidth": 0,
              "ticks": ""
             }
            },
            "type": "scatterpolargl"
           }
          ],
          "scatterternary": [
           {
            "marker": {
             "colorbar": {
              "outlinewidth": 0,
              "ticks": ""
             }
            },
            "type": "scatterternary"
           }
          ],
          "surface": [
           {
            "colorbar": {
             "outlinewidth": 0,
             "ticks": ""
            },
            "colorscale": [
             [
              0,
              "#0d0887"
             ],
             [
              0.1111111111111111,
              "#46039f"
             ],
             [
              0.2222222222222222,
              "#7201a8"
             ],
             [
              0.3333333333333333,
              "#9c179e"
             ],
             [
              0.4444444444444444,
              "#bd3786"
             ],
             [
              0.5555555555555556,
              "#d8576b"
             ],
             [
              0.6666666666666666,
              "#ed7953"
             ],
             [
              0.7777777777777778,
              "#fb9f3a"
             ],
             [
              0.8888888888888888,
              "#fdca26"
             ],
             [
              1,
              "#f0f921"
             ]
            ],
            "type": "surface"
           }
          ],
          "table": [
           {
            "cells": {
             "fill": {
              "color": "#506784"
             },
             "line": {
              "color": "rgb(17,17,17)"
             }
            },
            "header": {
             "fill": {
              "color": "#2a3f5f"
             },
             "line": {
              "color": "rgb(17,17,17)"
             }
            },
            "type": "table"
           }
          ]
         },
         "layout": {
          "annotationdefaults": {
           "arrowcolor": "#f2f5fa",
           "arrowhead": 0,
           "arrowwidth": 1
          },
          "colorscale": {
           "diverging": [
            [
             0,
             "#8e0152"
            ],
            [
             0.1,
             "#c51b7d"
            ],
            [
             0.2,
             "#de77ae"
            ],
            [
             0.3,
             "#f1b6da"
            ],
            [
             0.4,
             "#fde0ef"
            ],
            [
             0.5,
             "#f7f7f7"
            ],
            [
             0.6,
             "#e6f5d0"
            ],
            [
             0.7,
             "#b8e186"
            ],
            [
             0.8,
             "#7fbc41"
            ],
            [
             0.9,
             "#4d9221"
            ],
            [
             1,
             "#276419"
            ]
           ],
           "sequential": [
            [
             0,
             "#0d0887"
            ],
            [
             0.1111111111111111,
             "#46039f"
            ],
            [
             0.2222222222222222,
             "#7201a8"
            ],
            [
             0.3333333333333333,
             "#9c179e"
            ],
            [
             0.4444444444444444,
             "#bd3786"
            ],
            [
             0.5555555555555556,
             "#d8576b"
            ],
            [
             0.6666666666666666,
             "#ed7953"
            ],
            [
             0.7777777777777778,
             "#fb9f3a"
            ],
            [
             0.8888888888888888,
             "#fdca26"
            ],
            [
             1,
             "#f0f921"
            ]
           ],
           "sequentialminus": [
            [
             0,
             "#0d0887"
            ],
            [
             0.1111111111111111,
             "#46039f"
            ],
            [
             0.2222222222222222,
             "#7201a8"
            ],
            [
             0.3333333333333333,
             "#9c179e"
            ],
            [
             0.4444444444444444,
             "#bd3786"
            ],
            [
             0.5555555555555556,
             "#d8576b"
            ],
            [
             0.6666666666666666,
             "#ed7953"
            ],
            [
             0.7777777777777778,
             "#fb9f3a"
            ],
            [
             0.8888888888888888,
             "#fdca26"
            ],
            [
             1,
             "#f0f921"
            ]
           ]
          },
          "colorway": [
           "#636efa",
           "#EF553B",
           "#00cc96",
           "#ab63fa",
           "#FFA15A",
           "#19d3f3",
           "#FF6692",
           "#B6E880",
           "#FF97FF",
           "#FECB52"
          ],
          "font": {
           "color": "#f2f5fa"
          },
          "geo": {
           "bgcolor": "rgb(17,17,17)",
           "lakecolor": "rgb(17,17,17)",
           "landcolor": "rgb(17,17,17)",
           "showlakes": true,
           "showland": true,
           "subunitcolor": "#506784"
          },
          "hoverlabel": {
           "align": "left"
          },
          "hovermode": "closest",
          "mapbox": {
           "style": "dark"
          },
          "paper_bgcolor": "rgb(17,17,17)",
          "plot_bgcolor": "rgb(17,17,17)",
          "polar": {
           "angularaxis": {
            "gridcolor": "#506784",
            "linecolor": "#506784",
            "ticks": ""
           },
           "bgcolor": "rgb(17,17,17)",
           "radialaxis": {
            "gridcolor": "#506784",
            "linecolor": "#506784",
            "ticks": ""
           }
          },
          "scene": {
           "xaxis": {
            "backgroundcolor": "rgb(17,17,17)",
            "gridcolor": "#506784",
            "gridwidth": 2,
            "linecolor": "#506784",
            "showbackground": true,
            "ticks": "",
            "zerolinecolor": "#C8D4E3"
           },
           "yaxis": {
            "backgroundcolor": "rgb(17,17,17)",
            "gridcolor": "#506784",
            "gridwidth": 2,
            "linecolor": "#506784",
            "showbackground": true,
            "ticks": "",
            "zerolinecolor": "#C8D4E3"
           },
           "zaxis": {
            "backgroundcolor": "rgb(17,17,17)",
            "gridcolor": "#506784",
            "gridwidth": 2,
            "linecolor": "#506784",
            "showbackground": true,
            "ticks": "",
            "zerolinecolor": "#C8D4E3"
           }
          },
          "shapedefaults": {
           "line": {
            "color": "#f2f5fa"
           }
          },
          "sliderdefaults": {
           "bgcolor": "#C8D4E3",
           "bordercolor": "rgb(17,17,17)",
           "borderwidth": 1,
           "tickwidth": 0
          },
          "ternary": {
           "aaxis": {
            "gridcolor": "#506784",
            "linecolor": "#506784",
            "ticks": ""
           },
           "baxis": {
            "gridcolor": "#506784",
            "linecolor": "#506784",
            "ticks": ""
           },
           "bgcolor": "rgb(17,17,17)",
           "caxis": {
            "gridcolor": "#506784",
            "linecolor": "#506784",
            "ticks": ""
           }
          },
          "title": {
           "x": 0.05
          },
          "updatemenudefaults": {
           "bgcolor": "#506784",
           "borderwidth": 0
          },
          "xaxis": {
           "automargin": true,
           "gridcolor": "#283442",
           "linecolor": "#506784",
           "ticks": "",
           "zerolinecolor": "#283442",
           "zerolinewidth": 2
          },
          "yaxis": {
           "automargin": true,
           "gridcolor": "#283442",
           "linecolor": "#506784",
           "ticks": "",
           "zerolinecolor": "#283442",
           "zerolinewidth": 2
          }
         }
        },
        "xaxis": {
         "anchor": "y",
         "domain": [
          0,
          0.98
         ],
         "title": {
          "text": "release_year"
         }
        },
        "yaxis": {
         "anchor": "x",
         "domain": [
          0,
          1
         ],
         "title": {
          "text": "score"
         }
        }
       }
      },
      "text/html": [
       "<div>\n",
       "        \n",
       "        \n",
       "            <div id=\"59077ec7-50e7-43c9-b87e-55f01b6fe883\" class=\"plotly-graph-div\" style=\"height:600px; width:100%;\"></div>\n",
       "            <script type=\"text/javascript\">\n",
       "                require([\"plotly\"], function(Plotly) {\n",
       "                    window.PLOTLYENV=window.PLOTLYENV || {};\n",
       "                    \n",
       "                if (document.getElementById(\"59077ec7-50e7-43c9-b87e-55f01b6fe883\")) {\n",
       "                    Plotly.newPlot(\n",
       "                        '59077ec7-50e7-43c9-b87e-55f01b6fe883',\n",
       "                        [{\"hoverlabel\": {\"namelength\": 0}, \"hovertemplate\": \"release_year=%{x}<br>score=%{y}\", \"legendgroup\": \"\", \"marker\": {\"color\": \"#636efa\", \"symbol\": \"circle\"}, \"mode\": \"markers\", \"name\": \"\", \"showlegend\": false, \"type\": \"scattergl\", \"x\": [2012, 2012, 2012, 2012, 2012, 2012, 2012, 2012, 2012, 2012, 2012, 2012, 2012, 2012, 2012, 2012, 2012, 2012, 2012, 2012, 2012, 2012, 2012, 2012, 2012, 2012, 2012, 2012, 2012, 2012, 2012, 2012, 2012, 2012, 2012, 2012, 2012, 2012, 2012, 2012, 2012, 2012, 2012, 2012, 2012, 2012, 2012, 2012, 2012, 2012, 2012, 2012, 2012, 2012, 2012, 2012, 2012, 2012, 2012, 2012, 2012, 2012, 2012, 2012, 2012, 2012, 2012, 2012, 2012, 2012, 2013, 2012, 2012, 2013, 2013, 2012, 2012, 2012, 2012, 2013, 2012, 2013, 2012, 2012, 2006, 2006, 2006, 2006, 2006, 2006, 2006, 2006, 2006, 2006, 2006, 2006, 2006, 2006, 2006, 2006, 2006, 2006, 2006, 2007, 2006, 2006, 2007, 2007, 2007, 2007, 2007, 2007, 2007, 2007, 2007, 2007, 2007, 2007, 2007, 2007, 2007, 2007, 2007, 2007, 2007, 2007, 2007, 2007, 2007, 2007, 2007, 2007, 2007, 2007, 2007, 2007, 2007, 2007, 2007, 2007, 2007, 2007, 2007, 2007, 2007, 2007, 2007, 2007, 2007, 2007, 2007, 2007, 2007, 2007, 2007, 2007, 2007, 2007, 2007, 2007, 2007, 2007, 2007, 2007, 2007, 2007, 2007, 2007, 2007, 2007, 2007, 2007, 2007, 2007, 2007, 2007, 2007, 2007, 2007, 2007, 2007, 2007, 2007, 2007, 2007, 2007, 2007, 2007, 2007, 2007, 2007, 2007, 2007, 2007, 2007, 2007, 2007, 2007, 2007, 2007, 2007, 2007, 2007, 2007, 2007, 2007, 2007, 2007, 2007, 2007, 2007, 2007, 2007, 2007, 2007, 2008, 2008, 2007, 2008, 2008, 2008, 2007, 2007, 2008, 2008, 2008, 2007, 2007, 2008, 2008, 2008, 2008, 2008, 2008, 2008, 2008, 2008, 2008, 2008, 2008, 2008, 2008, 2008, 2008, 2008, 2008, 2008, 2008, 2008, 2008, 2008, 2008, 2008, 2008, 2008, 2008, 2008, 2008, 2008, 2008, 2008, 2008, 2008, 2008, 2008, 2008, 2008, 2008, 2008, 2008, 2008, 2008, 2008, 2008, 2008, 2008, 2008, 2008, 2008, 2008, 2008, 2008, 2008, 2008, 2008, 2008, 2008, 2008, 2008, 2008, 2008, 2008, 2008, 2008, 2008, 2008, 2008, 2008, 2008, 2008, 2008, 2008, 2008, 2008, 2008, 2008, 2008, 2008, 2008, 2008, 2008, 2008, 2008, 2008, 2008, 2008, 2008, 2008, 2008, 2008, 2008, 2008, 2008, 2008, 2008, 2008, 2008, 2008, 2008, 2008, 2008, 2008, 2008, 2008, 2008, 2008, 2008, 2008, 2008, 2008, 2008, 2008, 2008, 2008, 2008, 2008, 2008, 2008, 2008, 2008, 2008, 2008, 2008, 2008, 2008, 2008, 2008, 2008, 2008, 2008, 2008, 2008, 2008, 2008, 2008, 2008, 2008, 2008, 2008, 2008, 2008, 2008, 2008, 2008, 2008, 2008, 2008, 2008, 2008, 2008, 2008, 2008, 2008, 2008, 2008, 2008, 2008, 2008, 2008, 2008, 2008, 2008, 2008, 2008, 2008, 2008, 2008, 2008, 2008, 2008, 2008, 2008, 2008, 2008, 2008, 2008, 2008, 2008, 2008, 2008, 2009, 2009, 2009, 2009, 2009, 2009, 2009, 2009, 2009, 2009, 2009, 2009, 2009, 2009, 2009, 2009, 2009, 2009, 2009, 2009, 2009, 2009, 2009, 2009, 2009, 2009, 2009, 2009, 2009, 2009, 2009, 2009, 2009, 2009, 2009, 2009, 2009, 2009, 2009, 2009, 2009, 2009, 2009, 2009, 2009, 2009, 2009, 2009, 2009, 2009, 2009, 2009, 2009, 2009, 2009, 2009, 2009, 2009, 2009, 2009, 2009, 2009, 2009, 2009, 2009, 2009, 2009, 2009, 2009, 2009, 2009, 2009, 2009, 2009, 2009, 2009, 2009, 2009, 2009, 2009, 2009, 2009, 2009, 2009, 2009, 2009, 2009, 2009, 2009, 2009, 2009, 2009, 2009, 2009, 2009, 2009, 2009, 2009, 2009, 2009, 2009, 2009, 2009, 2009, 2009, 2009, 2009, 2009, 2009, 2009, 2009, 2009, 2009, 2009, 2009, 2009, 2009, 2009, 2009, 2009, 2009, 2009, 2009, 2009, 2009, 2009, 2009, 2009, 2009, 2009, 2009, 2009, 2009, 2009, 2009, 2009, 2009, 2009, 2009, 2009, 2009, 2009, 2009, 2009, 2009, 2009, 2009, 2009, 2009, 2009, 2009, 2009, 2009, 2009, 2009, 2009, 2009, 2009, 2009, 2009, 2009, 2009, 2009, 2009, 2009, 2009, 2009, 2009, 2009, 2009, 2009, 2009, 2009, 2009, 2009, 2009, 2009, 2009, 2009, 2009, 2009, 2009, 2009, 2009, 2009, 2009, 2009, 2009, 2009, 2009, 2009, 2009, 2009, 2009, 2009, 2009, 2009, 2009, 2009, 2009, 2009, 2009, 2009, 2009, 2009, 2009, 2009, 2009, 2009, 2009, 2009, 2009, 2009, 2009, 2010, 2010, 2010, 2010, 2010, 2010, 2010, 2009, 2010, 2010, 2010, 2010, 2010, 2010, 2010, 2010, 2010, 2010, 2010, 2010, 2010, 2010, 2010, 2010, 2010, 2010, 2010, 2010, 2010, 2010, 2010, 2010, 2010, 2010, 2010, 2010, 2010, 2010, 2010, 2010, 2010, 2010, 2010, 2010, 2010, 2010, 2010, 2010, 2010, 2010, 2010, 2010, 2010, 2010, 2010, 2010, 2010, 2010, 2010, 2010, 2010, 2010, 2010, 2010, 2010, 2010, 2010, 2010, 2010, 2010, 2010, 2010, 2010, 2010, 2010, 2010, 2010, 2010, 2010, 2010, 2010, 2010, 2010, 2010, 2010, 2010, 2010, 2010, 2010, 2010, 2010, 2010, 2010, 2010, 2010, 2010, 2010, 2010, 2010, 2010, 2010, 2010, 2010, 2010, 2010, 2010, 2010, 2010, 2010, 2010, 2010, 2010, 2010, 2010, 2010, 2010, 2010, 2010, 2010, 2010, 2010, 2010, 2010, 2010, 2010, 2010, 2010, 2010, 2010, 2010, 2010, 2010, 2010, 2010, 2010, 2010, 2010, 2010, 2010, 2010, 2010, 2010, 2010, 2010, 2010, 2010, 2010, 2010, 2010, 2010, 2010, 2010, 2010, 2010, 2010, 2010, 2010, 2010, 2010, 2010, 2010, 2010, 2010, 2010, 2010, 2010, 2010, 2010, 2010, 2010, 2010, 2010, 2010, 2010, 2010, 2010, 2010, 2010, 2010, 2010, 2010, 2010, 2010, 2010, 2010, 2010, 2010, 2010, 2010, 2010, 2010, 2010, 2010, 2010, 2010, 2010, 2010, 2010, 2010, 2010, 2010, 2010, 2010, 2010, 2010, 2010, 2010, 2011, 2011, 2011, 2011, 2011, 2011, 2011, 2011, 2011, 2010, 2011, 2011, 2010, 2011, 2011, 2011, 2011, 2010, 2010, 2010, 2010, 2011, 2011, 2011, 2011, 2011, 2011, 2011, 2011, 2011, 2011, 2011, 2011, 2011, 2011, 2011, 2011, 2011, 2011, 2011, 2011, 2011, 2011, 2011, 2011, 2011, 2011, 2011, 2011, 2011, 2011, 2011, 2011, 2011, 2011, 2011, 2011, 2011, 2011, 2011, 2011, 2011, 2011, 2011, 2011, 2011, 2011, 2011, 2011, 2011, 2011, 2011, 2011, 2011, 2011, 2011, 2011, 2011, 2011, 2011, 2011, 2011, 2011, 2011, 2011, 2011, 2011, 2011, 2011, 2011, 2011, 2011, 2011, 2011, 2011, 2011, 2011, 2011, 2011, 2011, 2011, 2011, 2011, 2011, 2011, 2011, 2011, 2011, 2011, 2011, 2011, 2011, 2011, 2011, 2011, 2011, 2011, 2011, 2011, 2011, 2011, 2011, 2011, 2011, 2011, 2011, 2011, 2011, 2011, 2011, 2011, 2011, 2011, 2011, 2011, 2011, 2011, 2011, 2011, 2011, 2011, 2011, 2011, 2011, 2011, 2011, 2011, 2011, 2011, 2011, 2011, 2011, 2011, 2011, 2011, 2011, 2011, 2011, 2011, 2011, 2011, 2011, 2011, 2011, 2011, 2011, 2011, 2011, 2011, 2011, 2011, 2011, 2011, 2011, 2011, 2011, 2011, 2011, 2011, 2011, 2011, 2011, 2011, 2011, 2011, 2011, 2011, 2011, 2011, 2011, 2011, 2011, 2011, 2011, 2011, 2011, 2011, 2011, 2011, 2011, 2011, 2011, 2011, 2011, 2011, 2011, 2011, 2011, 2011, 2011, 2011, 2011, 2011, 2011, 2011, 2011, 2011, 2011, 2011, 2011, 2011, 2011, 2011, 2011, 2011, 2011, 2011, 2011, 2011, 2011, 2011, 2011, 2011, 2011, 2012, 2012, 2012, 2012, 2012, 2012, 2012, 2012, 2012, 2012, 2012, 2012, 2012, 2012, 2012, 2012, 2012, 2012, 2012, 2012, 2012, 2012, 2012, 2012, 2012, 2012, 2012, 2012, 2012, 2012, 2012, 2012, 2012, 2012, 2012, 2012, 2012, 2012, 2012, 2012, 2012, 2012, 2012, 2012, 2012, 2012, 2012, 2012, 2012, 2012, 2012, 2012, 2012, 2012, 2012, 2012, 2012, 2012, 2012, 2012, 2012, 2012, 2012, 2012, 2012, 2012, 2012, 2012, 2012, 2012, 2012, 2012, 2012, 2012, 2012, 2012, 2012, 2012, 2012, 2012, 2012, 2012, 2012, 2012, 2012, 2012, 2012, 2012, 2013, 2012, 2012, 2013, 2012, 2012, 2013, 2012, 2013, 2013, 2013, 2013, 2013, 2013, 2013, 2013, 2013, 2013, 2013, 2013, 2013, 2013, 2013, 2013, 2013, 2013, 2013, 2013, 2013, 2013, 2013, 2013, 2013, 2013, 2013, 2013, 2013, 2013, 2013, 2013, 2013, 2013, 2013, 2013, 2013, 2013, 2013, 2013, 2013, 2013, 2013, 2013, 2013, 2013, 2013, 2013, 2013, 2013, 2013, 2013, 2013, 2013, 2013, 2013, 2013, 2013, 2013, 2013, 2013, 2013, 2013, 2013, 2013, 2013, 2013, 2013, 2013, 2013, 2013, 2013, 2013, 2013, 2013, 2013, 2013, 2013, 2013, 2013, 2013, 2013, 2013, 2013, 2013, 2013, 2013, 2013, 2013, 2013, 2013, 2013, 2013, 2013, 2013, 2013, 2013, 2013, 2013, 2013, 2013, 2013, 2013, 2013, 2013, 2013, 2013, 2013, 2013, 2013, 2013, 2013, 2013, 2013, 2013, 2014, 2014, 2013, 2013, 2013, 2013, 2013, 2013, 2014, 2014, 2014, 2014, 2014, 2013, 2014, 2014, 2014, 2014, 2014, 2014, 2014, 2014, 2014, 2014, 2014, 2014, 2014, 2014, 2014, 2014, 2014, 2014, 2014, 2014, 2014, 2014, 2014, 2014, 2014, 2014, 2014, 2014, 2014, 2014, 2014, 2014, 2014, 2014, 2014, 2014, 2014, 2014, 2014, 2014, 2014, 2014, 2014, 2014, 2014, 2014, 2014, 2014, 2014, 2014, 2014, 2014, 2014, 2014, 2014, 2014, 2014, 2015, 2014, 2015, 2014, 2014, 2015, 2015, 2015, 2016], \"xaxis\": \"x\", \"y\": [8.5, 3.0, 7.5, 5.5, 7.0, 7.5, 6.5, 4.9, 9.0, 8.5, 7.9, 8.0, 9.0, 9.1, 8.2, 8.8, 4.0, 8.5, 5.5, 8.2, 3.9, 6.0, 7.6, 2.3, 7.5, 8.0, 9.0, 7.0, 8.5, 7.5, 4.0, 7.5, 7.4, 8.0, 7.5, 9.0, 6.0, 8.2, 9.2, 7.0, 4.5, 5.3, 5.0, 9.0, 8.5, 9.0, 9.0, 9.0, 8.0, 7.0, 9.4, 7.8, 9.0, 8.5, 8.4, 5.2, 5.5, 9.3, 6.5, 5.0, 9.5, 7.6, 9.0, 6.4, 4.1, 6.0, 7.5, 6.9, 8.6, 9.3, 9.4, 6.0, 9.3, 6.9, 8.5, 9.0, 9.0, 8.3, 6.0, 5.9, 6.8, 7.7, 9.2, 8.0, 7.0, 6.0, 8.6, 8.2, 7.8, 9.1, 7.9, 6.5, 7.9, 8.3, 7.8, 8.5, 3.2, 5.9, 4.1, 8.3, 7.8, 8.3, 7.5, 7.0, 7.1, 7.0, 4.2, 8.8, 7.6, 8.8, 5.0, 7.2, 8.9, 7.4, 8.3, 6.7, 8.2, 7.5, 7.3, 5.9, 9.2, 8.5, 8.1, 2.9, 7.3, 7.9, 6.5, 5.5, 6.0, 6.0, 7.7, 5.6, 6.1, 5.2, 4.3, 2.8, 5.4, 6.2, 8.7, 6.3, 9.3, 8.7, 8.0, 5.7, 7.8, 7.7, 7.6, 5.0, 7.6, 7.3, 7.7, 7.5, 6.5, 8.5, 7.0, 8.3, 7.0, 6.8, 7.1, 8.5, 4.9, 8.8, 8.8, 8.4, 5.2, 8.6, 6.5, 8.0, 7.5, 6.0, 6.9, 9.0, 7.9, 2.1, 7.1, 7.9, 7.9, 8.0, 7.9, 8.0, 8.9, 9.4, 5.6, 6.7, 7.5, 7.7, 8.1, 6.8, 5.5, 9.4, 6.5, 7.0, 9.1, 8.0, 8.0, 7.5, 8.0, 9.4, 6.8, 9.4, 6.5, 8.1, 7.5, 7.5, 6.1, 4.0, 7.9, 7.6, 6.2, 7.0, 6.9, 7.0, 6.2, 6.8, 9.5, 6.7, 4.5, 7.3, 8.0, 8.8, 8.0, 3.5, 8.4, 8.5, 8.7, 7.0, 7.4, 9.0, 8.7, 3.0, 5.9, 5.5, 6.9, 4.5, 8.7, 5.5, 4.0, 5.0, 7.9, 5.5, 6.7, 7.2, 5.0, 8.9, 8.2, 8.2, 7.7, 6.3, 8.0, 8.6, 6.4, 6.3, 10.0, 6.0, 8.5, 8.5, 10.0, 8.2, 8.5, 8.1, 6.3, 3.8, 7.9, 8.6, 5.3, 8.7, 4.5, 8.5, 10.0, 3.5, 7.5, 6.2, 7.9, 7.2, 6.0, 7.3, 8.0, 5.9, 10.0, 7.6, 7.6, 6.0, 3.5, 7.9, 8.6, 8.8, 8.6, 7.8, 4.5, 8.7, 8.7, 7.0, 3.5, 7.0, 8.5, 7.0, 8.4, 8.5, 8.4, 9.4, 7.7, 8.4, 5.2, 8.8, 9.1, 7.4, 8.6, 5.0, 8.0, 6.8, 7.9, 6.7, 6.4, 3.0, 7.3, 8.1, 9.0, 4.5, 7.0, 9.0, 8.2, 2.5, 8.6, 7.6, 9.0, 7.7, 7.6, 7.8, 7.0, 8.9, 4.9, 5.9, 5.2, 5.5, 9.4, 6.7, 8.6, 9.3, 7.7, 9.5, 6.5, 8.7, 6.5, 9.0, 6.5, 8.2, 8.3, 3.2, 7.5, 8.5, 8.2, 8.8, 8.5, 9.0, 7.9, 5.5, 7.9, 7.9, 7.8, 3.0, 3.0, 8.7, 8.4, 7.0, 8.4, 5.0, 4.5, 8.0, 7.8, 8.6, 9.4, 7.8, 2.3, 9.4, 9.5, 9.5, 9.4, 3.3, 6.5, 9.2, 4.7, 7.4, 7.2, 7.1, 7.5, 7.1, 7.5, 6.0, 5.5, 7.4, 5.5, 5.1, 7.5, 6.2, 5.0, 4.0, 7.2, 7.2, 8.7, 4.9, 7.3, 6.8, 9.3, 6.2, 6.8, 4.5, 9.3, 8.5, 8.0, 8.5, 6.5, 5.2, 9.0, 7.0, 7.0, 8.3, 7.5, 9.4, 6.6, 6.6, 5.9, 7.0, 7.0, 6.0, 9.3, 9.0, 8.1, 9.0, 4.6, 7.0, 7.1, 6.0, 7.0, 8.0, 5.5, 6.8, 9.3, 6.8, 8.7, 5.2, 9.0, 7.8, 9.0, 8.0, 7.8, 7.9, 6.0, 8.9, 8.3, 2.0, 6.7, 4.8, 6.5, 7.3, 7.7, 5.8, 2.3, 5.0, 2.3, 5.6, 8.5, 4.9, 6.9, 8.5, 5.9, 7.4, 7.7, 7.8, 9.2, 2.0, 8.5, 7.6, 6.3, 8.0, 8.0, 8.0, 8.1, 7.3, 8.0, 5.1, 6.5, 7.5, 8.3, 2.5, 3.5, 8.0, 6.9, 8.0, 8.0, 7.0, 6.0, 8.8, 6.5, 7.5, 6.0, 7.0, 6.8, 6.0, 7.0, 7.7, 9.4, 8.3, 9.4, 8.5, 8.0, 9.0, 9.0, 4.2, 6.5, 7.5, 5.0, 7.3, 7.2, 5.8, 9.0, 9.2, 6.0, 8.9, 5.5, 4.5, 7.5, 6.5, 7.0, 9.3, 7.0, 9.5, 8.5, 4.5, 6.7, 7.7, 8.9, 6.6, 5.0, 9.3, 9.5, 8.0, 9.0, 6.6, 8.7, 8.2, 8.6, 5.9, 6.5, 8.5, 8.4, 9.0, 7.0, 8.0, 6.0, 8.4, 4.8, 8.1, 7.5, 7.8, 7.5, 9.4, 8.5, 8.5, 9.0, 6.6, 8.6, 8.5, 3.5, 7.8, 9.0, 9.0, 8.8, 6.5, 4.0, 8.0, 6.8, 8.2, 8.5, 9.4, 6.2, 5.1, 9.0, 5.0, 9.0, 8.8, 7.0, 8.7, 7.0, 4.7, 7.5, 7.9, 9.5, 6.8, 7.9, 5.3, 9.0, 8.7, 9.0, 6.0, 7.8, 9.2, 9.0, 4.9, 5.0, 9.4, 8.5, 6.5, 4.5, 6.5, 7.9, 7.0, 9.5, 6.2, 7.7, 9.5, 9.5, 5.5, 7.5, 7.8, 7.2, 6.9, 5.0, 6.8, 6.4, 9.1, 7.5, 7.0, 1.5, 8.0, 7.9, 6.0, 7.8, 4.9, 4.6, 7.5, 5.1, 8.2, 7.0, 7.3, 5.0, 7.4, 7.3, 9.1, 9.1, 6.5, 7.0, 8.0, 7.0, 6.0, 9.0, 3.0, 8.9, 8.9, 8.8, 8.9, 8.5, 7.0, 7.4, 7.5, 8.5, 6.8, 8.5, 9.3, 8.9, 7.0, 7.5, 8.0, 6.0, 8.8, 3.5, 9.0, 8.5, 8.0, 5.0, 7.0, 5.0, 4.5, 4.5, 4.5, 7.5, 6.7, 2.5, 4.0, 7.0, 8.3, 4.6, 9.2, 7.5, 6.0, 8.7, 8.8, 5.1, 7.2, 7.0, 8.5, 7.0, 9.0, 8.0, 7.0, 6.0, 9.0, 5.5, 8.0, 9.7, 8.5, 2.5, 8.5, 7.8, 9.5, 7.0, 6.5, 7.0, 8.5, 7.5, 5.0, 8.0, 9.0, 5.0, 9.3, 4.0, 4.0, 8.3, 8.5, 6.0, 6.5, 6.5, 7.5, 8.9, 7.0, 7.5, 8.5, 4.5, 8.0, 7.0, 6.0, 8.5, 7.5, 3.5, 5.0, 7.0, 7.0, 8.0, 6.5, 8.5, 8.5, 8.0, 8.0, 8.5, 7.0, 3.5, 4.5, 6.0, 4.5, 5.0, 8.5, 8.0, 8.5, 7.5, 8.5, 5.0, 6.0, 9.0, 5.5, 8.0, 4.5, 6.0, 8.5, 4.0, 5.0, 8.9, 5.5, 9.5, 8.0, 4.5, 6.0, 8.0, 7.0, 7.5, 8.0, 3.5, 6.5, 5.5, 8.0, 4.0, 2.5, 8.5, 7.0, 8.0, 8.5, 8.0, 8.0, 4.0, 8.5, 6.0, 6.0, 8.0, 7.5, 5.5, 4.0, 10.0, 9.0, 8.5, 7.5, 4.5, 8.0, 7.0, 7.5, 5.0, 5.0, 7.5, 6.0, 6.0, 8.5, 5.5, 6.5, 7.0, 5.0, 7.5, 2.0, 8.0, 4.0, 3.0, 7.5, 7.5, 6.0, 5.5, 8.5, 6.5, 4.0, 8.5, 7.5, 8.0, 5.5, 6.5, 6.0, 10.0, 7.5, 4.5, 9.0, 4.0, 9.5, 7.0, 8.5, 8.0, 7.0, 7.5, 6.5, 8.0, 8.0, 8.0, 8.5, 8.5, 8.0, 6.5, 7.0, 7.0, 6.0, 6.5, 6.0, 5.5, 8.5, 8.0, 8.5, 6.5, 5.0, 3.5, 6.0, 8.0, 8.0, 6.0, 8.5, 5.5, 6.0, 9.0, 7.0, 8.0, 8.5, 9.0, 7.0, 7.0, 6.0, 6.5, 9.0, 7.5, 5.0, 8.5, 5.0, 8.0, 7.0, 8.5, 8.5, 7.5, 5.5, 4.5, 5.5, 6.5, 6.0, 6.0, 6.0, 7.0, 7.0, 3.0, 7.5, 6.0, 8.0, 7.5, 8.5, 8.5, 8.0, 5.0, 8.0, 4.0, 8.0, 9.5, 6.0, 9.0, 7.0, 5.0, 6.0, 8.5, 9.0, 7.0, 7.0, 6.0, 9.0, 6.5, 7.5, 5.5, 8.5, 6.5, 8.0, 7.5, 8.5, 4.0, 4.0, 6.0, 7.0, 8.0, 3.5, 6.0, 5.0, 5.5, 7.0, 6.5, 6.5, 8.0, 4.5, 4.5, 8.5, 8.5, 8.0, 6.5, 6.5, 4.5, 5.0, 6.0, 7.5, 6.5, 6.0, 6.5, 6.5, 7.0, 5.5, 7.0, 7.0, 9.0, 8.0, 9.0, 9.0, 5.0, 9.0, 8.5, 8.0, 5.0, 7.5, 8.5, 7.5, 8.5, 8.5, 9.0, 8.0, 9.0, 7.0, 6.0, 6.0, 9.0, 8.0, 7.0, 6.0, 6.5, 8.0, 8.5, 8.5, 8.5, 7.5, 7.0, 8.5, 7.5, 9.0, 8.0, 9.0, 5.5, 5.0, 6.5, 9.5, 6.5, 9.5, 8.5, 7.0, 8.0, 7.5, 9.5, 8.0, 7.5, 7.5, 4.5, 8.0, 4.0, 8.0, 5.5, 8.0, 8.0, 5.5, 7.5, 7.0, 7.5, 5.5, 8.5, 4.5, 7.0, 5.0, 6.5, 7.5, 7.0, 9.5, 9.0, 7.5, 7.5, 10.0, 8.5, 7.0, 8.5, 9.0, 8.5, 6.5, 7.5, 9.0, 8.0, 8.0, 3.0, 8.5, 9.5, 4.5, 6.5, 8.5, 7.0, 8.5, 4.0, 8.0, 8.0, 5.5, 7.5, 8.0, 5.0, 9.0, 4.0, 7.0, 8.0, 6.5, 7.0, 7.5, 8.0, 3.0, 8.5, 7.0, 8.0, 5.5, 7.5, 2.0, 8.0, 9.0, 8.5, 9.0, 6.5, 9.0, 8.0, 8.0, 8.5, 9.0, 4.0, 7.0, 8.0, 4.0, 9.0, 3.0, 8.0, 4.5, 8.5, 8.5, 5.0, 4.5, 6.5, 4.5, 8.5, 9.5, 9.0, 8.5, 8.5, 7.0, 9.0, 9.0, 6.5, 7.5, 9.0, 7.5, 8.5, 7.5, 7.5, 7.5, 6.5, 8.5, 6.5, 8.5, 9.0, 5.5, 6.0, 6.0, 8.5, 8.5, 7.5, 7.5, 6.5, 4.0, 8.0, 9.0, 9.0, 9.0, 6.0, 7.0, 7.0, 8.0, 8.5, 8.5, 5.0, 5.5, 8.5, 7.5, 8.0, 7.0, 8.5, 8.5, 8.0, 5.0, 5.5, 5.5, 5.5, 8.5, 8.0, 7.8, 3.0, 6.5, 8.0, 8.0, 7.0, 8.0, 8.0, 7.9, 9.0, 9.1, 7.5, 8.5, 6.2, 8.2, 8.5, 3.7, 4.5, 9.4, 8.6, 7.8, 4.5, 9.1, 8.8, 7.5, 8.2, 9.0, 9.0, 8.0, 5.4, 8.4, 5.0, 9.3, 9.5, 5.8, 8.0, 6.5, 8.0, 2.5, 7.5, 7.5, 7.9, 4.2, 7.0, 6.8, 7.2, 7.2, 8.0, 5.2, 4.9, 8.0, 5.6, 8.9, 8.1, 6.0, 9.2, 7.4, 8.7, 8.3, 9.0, 10.0, 8.0, 5.9, 9.2, 8.4, 8.7, 10.0, 5.0, 6.2, 7.3, 7.5, 8.0, 8.6, 8.5, 9.5, 9.0, 8.3, 8.5, 8.5, 5.8, 7.0, 7.0, 5.5, 8.3, 8.2, 8.0, 8.5, 9.0, 7.4, 7.7, 9.0, 6.0, 5.5, 7.6, 7.0, 9.1, 8.0, 3.0, 4.0, 9.3, 9.0, 6.5, 9.0, 9.0, 8.4, 8.8, 3.5, 8.2, 8.6, 8.2, 7.0, 8.5, 8.0, 8.7, 7.4, 7.8, 5.4, 9.0, 3.5, 8.0, 7.0, 6.5, 4.5, 9.5, 5.2, 8.0, 8.0, 5.5, 7.0, 3.5, 4.8, 3.0, 8.0, 8.2, 6.5, 7.0, 7.0, 7.5, 6.5, 7.7, 6.6, 9.0, 8.5, 9.3, 9.3, 9.5, 5.8, 9.0, 6.5, 6.5, 5.6, 6.2, 8.0, 9.0, 9.2, 6.8, 8.1, 7.0, 8.5, 5.4, 9.3, 4.9, 9.0, 7.5, 4.5, 8.3, 8.0, 6.0, 4.0, 7.0, 7.6, 7.5, 4.8, 4.8, 7.8, 8.7, 7.5, 8.0, 7.4, 7.0, 8.0, 8.8, 6.7, 7.0, 9.1, 7.8, 9.5, 8.0, 7.3, 9.1, 7.8, 6.8, 9.0, 8.5, 8.0, 8.5, 8.1, 8.4, 2.0, 9.0, 7.0, 7.9, 9.0], \"yaxis\": \"y\"}],\n",
       "                        {\"height\": 600, \"legend\": {\"tracegroupgap\": 0}, \"margin\": {\"t\": 60}, \"template\": {\"data\": {\"bar\": [{\"error_x\": {\"color\": \"#f2f5fa\"}, \"error_y\": {\"color\": \"#f2f5fa\"}, \"marker\": {\"line\": {\"color\": \"rgb(17,17,17)\", \"width\": 0.5}}, \"type\": \"bar\"}], \"barpolar\": [{\"marker\": {\"line\": {\"color\": \"rgb(17,17,17)\", \"width\": 0.5}}, \"type\": \"barpolar\"}], \"carpet\": [{\"aaxis\": {\"endlinecolor\": \"#A2B1C6\", \"gridcolor\": \"#506784\", \"linecolor\": \"#506784\", \"minorgridcolor\": \"#506784\", \"startlinecolor\": \"#A2B1C6\"}, \"baxis\": {\"endlinecolor\": \"#A2B1C6\", \"gridcolor\": \"#506784\", \"linecolor\": \"#506784\", \"minorgridcolor\": \"#506784\", \"startlinecolor\": \"#A2B1C6\"}, \"type\": \"carpet\"}], \"choropleth\": [{\"colorbar\": {\"outlinewidth\": 0, \"ticks\": \"\"}, \"type\": \"choropleth\"}], \"contour\": [{\"colorbar\": {\"outlinewidth\": 0, \"ticks\": \"\"}, \"colorscale\": [[0.0, \"#0d0887\"], [0.1111111111111111, \"#46039f\"], [0.2222222222222222, \"#7201a8\"], [0.3333333333333333, \"#9c179e\"], [0.4444444444444444, \"#bd3786\"], [0.5555555555555556, \"#d8576b\"], [0.6666666666666666, \"#ed7953\"], [0.7777777777777778, \"#fb9f3a\"], [0.8888888888888888, \"#fdca26\"], [1.0, \"#f0f921\"]], \"type\": \"contour\"}], \"contourcarpet\": [{\"colorbar\": {\"outlinewidth\": 0, \"ticks\": \"\"}, \"type\": \"contourcarpet\"}], \"heatmap\": [{\"colorbar\": {\"outlinewidth\": 0, \"ticks\": \"\"}, \"colorscale\": [[0.0, \"#0d0887\"], [0.1111111111111111, \"#46039f\"], [0.2222222222222222, \"#7201a8\"], [0.3333333333333333, \"#9c179e\"], [0.4444444444444444, \"#bd3786\"], [0.5555555555555556, \"#d8576b\"], [0.6666666666666666, \"#ed7953\"], [0.7777777777777778, \"#fb9f3a\"], [0.8888888888888888, \"#fdca26\"], [1.0, \"#f0f921\"]], \"type\": \"heatmap\"}], \"heatmapgl\": [{\"colorbar\": {\"outlinewidth\": 0, \"ticks\": \"\"}, \"colorscale\": [[0.0, \"#0d0887\"], [0.1111111111111111, \"#46039f\"], [0.2222222222222222, \"#7201a8\"], [0.3333333333333333, \"#9c179e\"], [0.4444444444444444, \"#bd3786\"], [0.5555555555555556, \"#d8576b\"], [0.6666666666666666, \"#ed7953\"], [0.7777777777777778, \"#fb9f3a\"], [0.8888888888888888, \"#fdca26\"], [1.0, \"#f0f921\"]], \"type\": \"heatmapgl\"}], \"histogram\": [{\"marker\": {\"colorbar\": {\"outlinewidth\": 0, \"ticks\": \"\"}}, \"type\": \"histogram\"}], \"histogram2d\": [{\"colorbar\": {\"outlinewidth\": 0, \"ticks\": \"\"}, \"colorscale\": [[0.0, \"#0d0887\"], [0.1111111111111111, \"#46039f\"], [0.2222222222222222, \"#7201a8\"], [0.3333333333333333, \"#9c179e\"], [0.4444444444444444, \"#bd3786\"], [0.5555555555555556, \"#d8576b\"], [0.6666666666666666, \"#ed7953\"], [0.7777777777777778, \"#fb9f3a\"], [0.8888888888888888, \"#fdca26\"], [1.0, \"#f0f921\"]], \"type\": \"histogram2d\"}], \"histogram2dcontour\": [{\"colorbar\": {\"outlinewidth\": 0, \"ticks\": \"\"}, \"colorscale\": [[0.0, \"#0d0887\"], [0.1111111111111111, \"#46039f\"], [0.2222222222222222, \"#7201a8\"], [0.3333333333333333, \"#9c179e\"], [0.4444444444444444, \"#bd3786\"], [0.5555555555555556, \"#d8576b\"], [0.6666666666666666, \"#ed7953\"], [0.7777777777777778, \"#fb9f3a\"], [0.8888888888888888, \"#fdca26\"], [1.0, \"#f0f921\"]], \"type\": \"histogram2dcontour\"}], \"mesh3d\": [{\"colorbar\": {\"outlinewidth\": 0, \"ticks\": \"\"}, \"type\": \"mesh3d\"}], \"parcoords\": [{\"line\": {\"colorbar\": {\"outlinewidth\": 0, \"ticks\": \"\"}}, \"type\": \"parcoords\"}], \"scatter\": [{\"marker\": {\"line\": {\"color\": \"#283442\"}}, \"type\": \"scatter\"}], \"scatter3d\": [{\"line\": {\"colorbar\": {\"outlinewidth\": 0, \"ticks\": \"\"}}, \"marker\": {\"colorbar\": {\"outlinewidth\": 0, \"ticks\": \"\"}}, \"type\": \"scatter3d\"}], \"scattercarpet\": [{\"marker\": {\"colorbar\": {\"outlinewidth\": 0, \"ticks\": \"\"}}, \"type\": \"scattercarpet\"}], \"scattergeo\": [{\"marker\": {\"colorbar\": {\"outlinewidth\": 0, \"ticks\": \"\"}}, \"type\": \"scattergeo\"}], \"scattergl\": [{\"marker\": {\"line\": {\"color\": \"#283442\"}}, \"type\": \"scattergl\"}], \"scattermapbox\": [{\"marker\": {\"colorbar\": {\"outlinewidth\": 0, \"ticks\": \"\"}}, \"type\": \"scattermapbox\"}], \"scatterpolar\": [{\"marker\": {\"colorbar\": {\"outlinewidth\": 0, \"ticks\": \"\"}}, \"type\": \"scatterpolar\"}], \"scatterpolargl\": [{\"marker\": {\"colorbar\": {\"outlinewidth\": 0, \"ticks\": \"\"}}, \"type\": \"scatterpolargl\"}], \"scatterternary\": [{\"marker\": {\"colorbar\": {\"outlinewidth\": 0, \"ticks\": \"\"}}, \"type\": \"scatterternary\"}], \"surface\": [{\"colorbar\": {\"outlinewidth\": 0, \"ticks\": \"\"}, \"colorscale\": [[0.0, \"#0d0887\"], [0.1111111111111111, \"#46039f\"], [0.2222222222222222, \"#7201a8\"], [0.3333333333333333, \"#9c179e\"], [0.4444444444444444, \"#bd3786\"], [0.5555555555555556, \"#d8576b\"], [0.6666666666666666, \"#ed7953\"], [0.7777777777777778, \"#fb9f3a\"], [0.8888888888888888, \"#fdca26\"], [1.0, \"#f0f921\"]], \"type\": \"surface\"}], \"table\": [{\"cells\": {\"fill\": {\"color\": \"#506784\"}, \"line\": {\"color\": \"rgb(17,17,17)\"}}, \"header\": {\"fill\": {\"color\": \"#2a3f5f\"}, \"line\": {\"color\": \"rgb(17,17,17)\"}}, \"type\": \"table\"}]}, \"layout\": {\"annotationdefaults\": {\"arrowcolor\": \"#f2f5fa\", \"arrowhead\": 0, \"arrowwidth\": 1}, \"colorscale\": {\"diverging\": [[0, \"#8e0152\"], [0.1, \"#c51b7d\"], [0.2, \"#de77ae\"], [0.3, \"#f1b6da\"], [0.4, \"#fde0ef\"], [0.5, \"#f7f7f7\"], [0.6, \"#e6f5d0\"], [0.7, \"#b8e186\"], [0.8, \"#7fbc41\"], [0.9, \"#4d9221\"], [1, \"#276419\"]], \"sequential\": [[0.0, \"#0d0887\"], [0.1111111111111111, \"#46039f\"], [0.2222222222222222, \"#7201a8\"], [0.3333333333333333, \"#9c179e\"], [0.4444444444444444, \"#bd3786\"], [0.5555555555555556, \"#d8576b\"], [0.6666666666666666, \"#ed7953\"], [0.7777777777777778, \"#fb9f3a\"], [0.8888888888888888, \"#fdca26\"], [1.0, \"#f0f921\"]], \"sequentialminus\": [[0.0, \"#0d0887\"], [0.1111111111111111, \"#46039f\"], [0.2222222222222222, \"#7201a8\"], [0.3333333333333333, \"#9c179e\"], [0.4444444444444444, \"#bd3786\"], [0.5555555555555556, \"#d8576b\"], [0.6666666666666666, \"#ed7953\"], [0.7777777777777778, \"#fb9f3a\"], [0.8888888888888888, \"#fdca26\"], [1.0, \"#f0f921\"]]}, \"colorway\": [\"#636efa\", \"#EF553B\", \"#00cc96\", \"#ab63fa\", \"#FFA15A\", \"#19d3f3\", \"#FF6692\", \"#B6E880\", \"#FF97FF\", \"#FECB52\"], \"font\": {\"color\": \"#f2f5fa\"}, \"geo\": {\"bgcolor\": \"rgb(17,17,17)\", \"lakecolor\": \"rgb(17,17,17)\", \"landcolor\": \"rgb(17,17,17)\", \"showlakes\": true, \"showland\": true, \"subunitcolor\": \"#506784\"}, \"hoverlabel\": {\"align\": \"left\"}, \"hovermode\": \"closest\", \"mapbox\": {\"style\": \"dark\"}, \"paper_bgcolor\": \"rgb(17,17,17)\", \"plot_bgcolor\": \"rgb(17,17,17)\", \"polar\": {\"angularaxis\": {\"gridcolor\": \"#506784\", \"linecolor\": \"#506784\", \"ticks\": \"\"}, \"bgcolor\": \"rgb(17,17,17)\", \"radialaxis\": {\"gridcolor\": \"#506784\", \"linecolor\": \"#506784\", \"ticks\": \"\"}}, \"scene\": {\"xaxis\": {\"backgroundcolor\": \"rgb(17,17,17)\", \"gridcolor\": \"#506784\", \"gridwidth\": 2, \"linecolor\": \"#506784\", \"showbackground\": true, \"ticks\": \"\", \"zerolinecolor\": \"#C8D4E3\"}, \"yaxis\": {\"backgroundcolor\": \"rgb(17,17,17)\", \"gridcolor\": \"#506784\", \"gridwidth\": 2, \"linecolor\": \"#506784\", \"showbackground\": true, \"ticks\": \"\", \"zerolinecolor\": \"#C8D4E3\"}, \"zaxis\": {\"backgroundcolor\": \"rgb(17,17,17)\", \"gridcolor\": \"#506784\", \"gridwidth\": 2, \"linecolor\": \"#506784\", \"showbackground\": true, \"ticks\": \"\", \"zerolinecolor\": \"#C8D4E3\"}}, \"shapedefaults\": {\"line\": {\"color\": \"#f2f5fa\"}}, \"sliderdefaults\": {\"bgcolor\": \"#C8D4E3\", \"bordercolor\": \"rgb(17,17,17)\", \"borderwidth\": 1, \"tickwidth\": 0}, \"ternary\": {\"aaxis\": {\"gridcolor\": \"#506784\", \"linecolor\": \"#506784\", \"ticks\": \"\"}, \"baxis\": {\"gridcolor\": \"#506784\", \"linecolor\": \"#506784\", \"ticks\": \"\"}, \"bgcolor\": \"rgb(17,17,17)\", \"caxis\": {\"gridcolor\": \"#506784\", \"linecolor\": \"#506784\", \"ticks\": \"\"}}, \"title\": {\"x\": 0.05}, \"updatemenudefaults\": {\"bgcolor\": \"#506784\", \"borderwidth\": 0}, \"xaxis\": {\"automargin\": true, \"gridcolor\": \"#283442\", \"linecolor\": \"#506784\", \"ticks\": \"\", \"zerolinecolor\": \"#283442\", \"zerolinewidth\": 2}, \"yaxis\": {\"automargin\": true, \"gridcolor\": \"#283442\", \"linecolor\": \"#506784\", \"ticks\": \"\", \"zerolinecolor\": \"#283442\", \"zerolinewidth\": 2}}}, \"xaxis\": {\"anchor\": \"y\", \"domain\": [0.0, 0.98], \"title\": {\"text\": \"release_year\"}}, \"yaxis\": {\"anchor\": \"x\", \"domain\": [0.0, 1.0], \"title\": {\"text\": \"score\"}}},\n",
       "                        {\"responsive\": true}\n",
       "                    ).then(function(){\n",
       "                            \n",
       "var gd = document.getElementById('59077ec7-50e7-43c9-b87e-55f01b6fe883');\n",
       "var x = new MutationObserver(function (mutations, observer) {{\n",
       "        var display = window.getComputedStyle(gd).display;\n",
       "        if (!display || display === 'none') {{\n",
       "            console.log([gd, 'removed!']);\n",
       "            Plotly.purge(gd);\n",
       "            observer.disconnect();\n",
       "        }}\n",
       "}});\n",
       "\n",
       "// Listen for the removal of the full notebook cells\n",
       "var notebookContainer = gd.closest('#notebook-container');\n",
       "if (notebookContainer) {{\n",
       "    x.observe(notebookContainer, {childList: true});\n",
       "}}\n",
       "\n",
       "// Listen for the clearing of the current output cell\n",
       "var outputEl = gd.closest('.output');\n",
       "if (outputEl) {{\n",
       "    x.observe(outputEl, {childList: true});\n",
       "}}\n",
       "\n",
       "                        })\n",
       "                };\n",
       "                });\n",
       "            </script>\n",
       "        </div>"
      ]
     },
     "metadata": {},
     "output_type": "display_data"
    }
   ],
   "source": [
    "import plotly.express as px\n",
    "fig = px.scatter(filtered_df, x=\"release_year\", y=\"score\", template=\"plotly_dark\")\n",
    "#fig = px.box(filtered_df, x=\"release_year\", y=\"score\", template=\"plotly_dark\")\n",
    "fig.show()"
   ]
  },
  {
   "cell_type": "markdown",
   "metadata": {
    "slideshow": {
     "slide_type": "subslide"
    }
   },
   "source": [
    "## ipywidget - Interaktive Eingabe-Formulare"
   ]
  },
  {
   "cell_type": "markdown",
   "metadata": {
    "slideshow": {
     "slide_type": "fragment"
    }
   },
   "source": [
    "- Komponenten für die Interaktion mit dem Benutzer\n",
    "- riesige Auswahl an [Komponenten](https://ipywidgets.readthedocs.io/en/latest/examples/Widget%20List.html)\n",
    "  - Slider für Int und Float (auch Ranges)\n",
    "  - Fortschrittsbalken\n",
    "  - Dropdown und Radiobox\n",
    "  - Texteingabe (auch mehrzeilig)\n",
    "  - Combobox\n",
    "  - Button\n",
    "  - Date- und Colorpicker\n",
    "  - und und und\n",
    "- Events\n",
    "- Event-Loop-Integration (asyncio)"
   ]
  },
  {
   "cell_type": "markdown",
   "metadata": {
    "slideshow": {
     "slide_type": "subslide"
    }
   },
   "source": [
    "## ipywidget - Demo"
   ]
  },
  {
   "cell_type": "code",
   "execution_count": 18,
   "metadata": {
    "ExecuteTime": {
     "end_time": "2019-11-21T19:57:14.556697Z",
     "start_time": "2019-11-21T19:57:14.526610Z"
    },
    "slideshow": {
     "slide_type": "fragment"
    }
   },
   "outputs": [
    {
     "data": {
      "application/vnd.jupyter.widget-view+json": {
       "model_id": "1c8cc569be6c4fa18d1599fde21aa9b8",
       "version_major": 2,
       "version_minor": 0
      },
      "text/plain": [
       "IntSlider(value=6)"
      ]
     },
     "metadata": {},
     "output_type": "display_data"
    }
   ],
   "source": [
    "from IPython.display import display\n",
    "import ipywidgets as widgets\n",
    "\n",
    "int_slider = widgets.IntSlider()\n",
    "int_slider.value = 6\n",
    "display(int_slider)\n"
   ]
  },
  {
   "cell_type": "code",
   "execution_count": 19,
   "metadata": {
    "ExecuteTime": {
     "end_time": "2019-11-21T19:57:23.559022Z",
     "start_time": "2019-11-21T19:57:23.548784Z"
    },
    "slideshow": {
     "slide_type": "fragment"
    }
   },
   "outputs": [
    {
     "data": {
      "text/plain": [
       "6"
      ]
     },
     "execution_count": 19,
     "metadata": {},
     "output_type": "execute_result"
    }
   ],
   "source": [
    "int_slider.value"
   ]
  },
  {
   "cell_type": "markdown",
   "metadata": {
    "slideshow": {
     "slide_type": "subslide"
    }
   },
   "source": [
    "## QGrid - Dynamische Tabellen ala Excel"
   ]
  },
  {
   "cell_type": "code",
   "execution_count": 13,
   "metadata": {
    "ExecuteTime": {
     "end_time": "2019-11-21T19:53:53.030000Z",
     "start_time": "2019-11-21T19:53:52.884549Z"
    },
    "slideshow": {
     "slide_type": "fragment"
    }
   },
   "outputs": [
    {
     "data": {
      "application/vnd.jupyter.widget-view+json": {
       "model_id": "2af569201baa47a5af2a0e56f525b1a8",
       "version_major": 2,
       "version_minor": 0
      },
      "text/plain": [
       "QgridWidget(grid_options={'fullWidthRows': True, 'syncColumnCellResize': True, 'forceFitColumns': True, 'defau…"
      ]
     },
     "metadata": {},
     "output_type": "display_data"
    }
   ],
   "source": [
    "import qgrid\n",
    "df_grid = qgrid.show_grid(df)\n",
    "df_grid # df_grid.get_changed_df() "
   ]
  },
  {
   "cell_type": "markdown",
   "metadata": {
    "slideshow": {
     "slide_type": "subslide"
    }
   },
   "source": [
    "## Pivottablejs - Pivot für pandas-Dataframe"
   ]
  },
  {
   "cell_type": "code",
   "execution_count": 14,
   "metadata": {
    "ExecuteTime": {
     "end_time": "2019-11-21T19:53:53.245177Z",
     "start_time": "2019-11-21T19:53:53.033200Z"
    },
    "slideshow": {
     "slide_type": "fragment"
    }
   },
   "outputs": [
    {
     "data": {
      "text/html": [
       "\n",
       "        <iframe\n",
       "            width=\"100%\"\n",
       "            height=\"500\"\n",
       "            src=\"pivottablejs.html\"\n",
       "            frameborder=\"0\"\n",
       "            allowfullscreen\n",
       "        ></iframe>\n",
       "        "
      ],
      "text/plain": [
       "<IPython.lib.display.IFrame at 0x11d260250>"
      ]
     },
     "execution_count": 14,
     "metadata": {},
     "output_type": "execute_result"
    }
   ],
   "source": [
    "from pivottablejs import pivot_ui\n",
    "pivot_ui(df)"
   ]
  },
  {
   "cell_type": "markdown",
   "metadata": {
    "slideshow": {
     "slide_type": "subslide"
    }
   },
   "source": [
    "## papermill - Automatisches Ausführen von Jupyter-Notebooks"
   ]
  },
  {
   "cell_type": "markdown",
   "metadata": {
    "slideshow": {
     "slide_type": "fragment"
    }
   },
   "source": [
    "Bei Papermill handelt es sich um einen Möglichkeit Jupyter-Notebooks automatisch auszuführen:\n",
    "\n",
    "- Innerhalb von Software-Frameworks wie u.a. [Apache Airflow mit papermill-Integration](https://airflow.readthedocs.io/en/latest/howto/operator/papermill.html)\n",
    "- [Beyond Interactive: Notebook Innovation at Netflix](https://medium.com/netflix-techblog/notebook-innovation-591ee3221233) und [Part 2: Scheduling Notebooks at Netflix](https://medium.com/netflix-techblog/scheduling-notebooks-348e6c14cfd6) bei Netflix\n",
    "- [CFM - *Pioneering scientific \n",
    "investment strategies.*](https://medium.com/capital-fund-management/automated-reports-with-jupyter-notebooks-using-jupytext-and-papermill-619e60c37330)\n",
    "- und Andere\n",
    "\n",
    "Wir haben eine Integration innerhalb der ProcessEngine.ts geplant (als External-Task-Worker)"
   ]
  },
  {
   "cell_type": "markdown",
   "metadata": {
    "slideshow": {
     "slide_type": "subslide"
    }
   },
   "source": [
    "### Demo mit *papermill*"
   ]
  },
  {
   "cell_type": "code",
   "execution_count": 15,
   "metadata": {
    "ExecuteTime": {
     "end_time": "2019-11-21T19:53:55.824086Z",
     "start_time": "2019-11-21T19:53:53.248379Z"
    },
    "slideshow": {
     "slide_type": "fragment"
    }
   },
   "outputs": [
    {
     "data": {
      "application/vnd.jupyter.widget-view+json": {
       "model_id": "23ec52cce61e4eeaa155db590adb32c2",
       "version_major": 2,
       "version_minor": 0
      },
      "text/plain": [
       "HBox(children=(IntProgress(value=0, max=7), HTML(value='')))"
      ]
     },
     "metadata": {},
     "output_type": "display_data"
    },
    {
     "name": "stdout",
     "output_type": "stream",
     "text": [
      "\n"
     ]
    },
    {
     "data": {
      "text/plain": [
       "{'cells': [{'cell_type': 'code',\n",
       "   'execution_count': 1,\n",
       "   'metadata': {'ExecuteTime': {'end_time': '2019-11-20T13:47:47.691043Z',\n",
       "     'start_time': '2019-11-20T13:47:47.684815Z'},\n",
       "    'papermill': {'exception': False,\n",
       "     'start_time': '2019-11-21T19:53:54.663630',\n",
       "     'end_time': '2019-11-21T19:53:54.921427',\n",
       "     'duration': 0.257797,\n",
       "     'status': 'completed'},\n",
       "    'tags': []},\n",
       "   'outputs': [],\n",
       "   'source': 'import json\\nimport requests'},\n",
       "  {'cell_type': 'code',\n",
       "   'execution_count': 2,\n",
       "   'metadata': {'ExecuteTime': {'end_time': '2019-11-20T13:47:47.705470Z',\n",
       "     'start_time': '2019-11-20T13:47:47.700130Z'},\n",
       "    'papermill': {'exception': False,\n",
       "     'start_time': '2019-11-21T19:53:54.933075',\n",
       "     'end_time': '2019-11-21T19:53:54.951955',\n",
       "     'duration': 0.01888,\n",
       "     'status': 'completed'},\n",
       "    'tags': ['parameters']},\n",
       "   'outputs': [],\n",
       "   'source': 'year = 2021'},\n",
       "  {'cell_type': 'code',\n",
       "   'metadata': {'tags': ['injected-parameters'],\n",
       "    'papermill': {'exception': False,\n",
       "     'start_time': '2019-11-21T19:53:54.960853',\n",
       "     'end_time': '2019-11-21T19:53:54.980467',\n",
       "     'duration': 0.019614,\n",
       "     'status': 'completed'}},\n",
       "   'execution_count': 3,\n",
       "   'source': '# Parameters\\nyear = 2021\\n',\n",
       "   'outputs': []},\n",
       "  {'cell_type': 'code',\n",
       "   'execution_count': 4,\n",
       "   'metadata': {'ExecuteTime': {'end_time': '2019-11-20T13:47:47.730921Z',\n",
       "     'start_time': '2019-11-20T13:47:47.715667Z'},\n",
       "    'papermill': {'exception': False,\n",
       "     'start_time': '2019-11-21T19:53:54.989194',\n",
       "     'end_time': '2019-11-21T19:53:55.005449',\n",
       "     'duration': 0.016255,\n",
       "     'status': 'completed'},\n",
       "    'tags': []},\n",
       "   'outputs': [],\n",
       "   'source': \"url = 'https://feiertage-api.de/api/?jahr={year}'.format(year=year)\"},\n",
       "  {'cell_type': 'code',\n",
       "   'execution_count': 5,\n",
       "   'metadata': {'ExecuteTime': {'end_time': '2019-11-20T13:47:47.841667Z',\n",
       "     'start_time': '2019-11-20T13:47:47.737741Z'},\n",
       "    'papermill': {'exception': False,\n",
       "     'start_time': '2019-11-21T19:53:55.012710',\n",
       "     'end_time': '2019-11-21T19:53:55.412219',\n",
       "     'duration': 0.399509,\n",
       "     'status': 'completed'},\n",
       "    'tags': []},\n",
       "   'outputs': [],\n",
       "   'source': 'request_freedays = requests.get(url)\\nstr_data = request_freedays.content.decode(\"utf-8\")\\nfreedays = json.loads(str_data)'},\n",
       "  {'cell_type': 'code',\n",
       "   'execution_count': 6,\n",
       "   'metadata': {'ExecuteTime': {'end_time': '2019-11-20T13:47:47.860193Z',\n",
       "     'start_time': '2019-11-20T13:47:47.847790Z'},\n",
       "    'papermill': {'exception': False,\n",
       "     'start_time': '2019-11-21T19:53:55.422069',\n",
       "     'end_time': '2019-11-21T19:53:55.454564',\n",
       "     'duration': 0.032495,\n",
       "     'status': 'completed'},\n",
       "    'tags': []},\n",
       "   'outputs': [{'output_type': 'stream',\n",
       "     'name': 'stdout',\n",
       "     'text': \"Neujahrstag: {'datum': '2021-01-01', 'hinweis': ''}\\nKarfreitag: {'datum': '2021-04-02', 'hinweis': ''}\\nOstermontag: {'datum': '2021-04-05', 'hinweis': ''}\\nTag der Arbeit: {'datum': '2021-05-01', 'hinweis': ''}\\nChristi Himmelfahrt: {'datum': '2021-05-13', 'hinweis': ''}\\nPfingstmontag: {'datum': '2021-05-24', 'hinweis': ''}\\nFronleichnam: {'datum': '2021-06-03', 'hinweis': ''}\\nTag der Deutschen Einheit: {'datum': '2021-10-03', 'hinweis': ''}\\nAllerheiligen: {'datum': '2021-11-01', 'hinweis': ''}\\n1. Weihnachtstag: {'datum': '2021-12-25', 'hinweis': ''}\\n2. Weihnachtstag: {'datum': '2021-12-26', 'hinweis': ''}\\n\"}],\n",
       "   'source': '#print(freedays[\\'NW\\'])\\n\\nfor key in freedays[\\'NW\\'].keys():\\n    print(\"{}: {}\".format(key, freedays[\\'NW\\'][key]))'},\n",
       "  {'cell_type': 'code',\n",
       "   'execution_count': None,\n",
       "   'metadata': {'papermill': {'exception': False,\n",
       "     'start_time': '2019-11-21T19:53:55.462310',\n",
       "     'end_time': '2019-11-21T19:53:55.470788',\n",
       "     'duration': 0.008478,\n",
       "     'status': 'completed'},\n",
       "    'tags': []},\n",
       "   'outputs': [],\n",
       "   'source': ''}],\n",
       " 'metadata': {'celltoolbar': 'Tags',\n",
       "  'kernelspec': {'display_name': 'Python 3',\n",
       "   'language': 'python',\n",
       "   'name': 'python3'},\n",
       "  'language_info': {'name': 'python',\n",
       "   'version': '3.7.4',\n",
       "   'mimetype': 'text/x-python',\n",
       "   'codemirror_mode': {'name': 'ipython', 'version': 3},\n",
       "   'pygments_lexer': 'ipython3',\n",
       "   'nbconvert_exporter': 'python',\n",
       "   'file_extension': '.py'},\n",
       "  'papermill': {'duration': 2.17502,\n",
       "   'end_time': '2019-11-21T19:53:55.795431',\n",
       "   'environment_variables': {},\n",
       "   'exception': None,\n",
       "   'input_path': 'papermill_sample/papermill_freedays_input.ipynb',\n",
       "   'output_path': 'papermill_sample/papermill_freedays_output.ipynb',\n",
       "   'parameters': {'year': 2021},\n",
       "   'start_time': '2019-11-21T19:53:53.620411',\n",
       "   'version': '1.0.1'},\n",
       "  'toc': {'base_numbering': 1,\n",
       "   'nav_menu': {},\n",
       "   'number_sections': True,\n",
       "   'sideBar': True,\n",
       "   'skip_h1_title': False,\n",
       "   'title_cell': 'Table of Contents',\n",
       "   'title_sidebar': 'Contents',\n",
       "   'toc_cell': False,\n",
       "   'toc_position': {},\n",
       "   'toc_section_display': True,\n",
       "   'toc_window_display': False}},\n",
       " 'nbformat': 4,\n",
       " 'nbformat_minor': 2}"
      ]
     },
     "execution_count": 15,
     "metadata": {},
     "output_type": "execute_result"
    }
   ],
   "source": [
    "import papermill as pm\n",
    "\n",
    "payload = {'year': 2021}\n",
    "input_filename = 'papermill_sample/papermill_freedays_input.ipynb'\n",
    "output_filename = 'papermill_sample/papermill_freedays_output.ipynb'\n",
    "\n",
    "pm.execute_notebook(\n",
    "    input_filename,\n",
    "    output_filename,\n",
    "    parameters=payload\n",
    ")"
   ]
  },
  {
   "cell_type": "markdown",
   "metadata": {
    "slideshow": {
     "slide_type": "subslide"
    }
   },
   "source": [
    "## RISE - Slideshow mit Jupyter-Notebooks"
   ]
  },
  {
   "cell_type": "markdown",
   "metadata": {
    "slideshow": {
     "slide_type": "fragment"
    }
   },
   "source": [
    "- Präsentation direkt aus einem Jupyter-Notebook\n",
    "- Es gibt unterschiedliche Zellentypen:\n",
    "    - **slide**: Hauptseiten, der Präsentation\n",
    "    - **subslide**: Unterseite für das entsprechende Thema\n",
    "    - **fragment**: Blendet Elemente in den aktuellen Bildschirm ein\n",
    "    - **skip**: Zelle wird übersprungen\n",
    "    - **notes**: Möglichkeit *Speaker-Notes* zu erstellen\n",
    "    \n",
    "**Hint**: diese Präsentation basiert auf *RISE*"
   ]
  },
  {
   "cell_type": "markdown",
   "metadata": {
    "slideshow": {
     "slide_type": "slide"
    }
   },
   "source": [
    "# Erweiterungen für Jupyter-Notebook"
   ]
  },
  {
   "cell_type": "markdown",
   "metadata": {
    "slideshow": {
     "slide_type": "subslide"
    }
   },
   "source": [
    "## ExecuteTime - Zeit zur Ausführung von Zellen bestimmen"
   ]
  },
  {
   "cell_type": "markdown",
   "metadata": {
    "slideshow": {
     "slide_type": "fragment"
    }
   },
   "source": [
    "- Stellt die Auführung von Code an der entsprechenden Zelle dar\n",
    "- Laufzeitprobleme können damit rechtzeitig erkannt werden\n",
    "\n",
    "![Beispiel für die Darstellung der Ausführungszeit](_assets/execute_time.png \"Beispiel für die Darstellung der Ausführungszeit\")"
   ]
  },
  {
   "cell_type": "markdown",
   "metadata": {
    "slideshow": {
     "slide_type": "subslide"
    }
   },
   "source": [
    "## Table of Content - Jupyter-Notebook organisiert"
   ]
  },
  {
   "cell_type": "markdown",
   "metadata": {
    "slideshow": {
     "slide_type": "fragment"
    }
   },
   "source": [
    "- Inhaltsverzeichnis aus den Header/Kapitel-Angaben der Markdown-Zellen\n",
    "\n",
    "**Beispiel:**\n",
    "\n",
    "<div>\n",
    "<img src=\"_assets/Table-of-Content.png\" width=\"350\" align=\"center\"/>\n",
    "</div>"
   ]
  },
  {
   "cell_type": "markdown",
   "metadata": {
    "slideshow": {
     "slide_type": "subslide"
    }
   },
   "source": [
    "## nbconvert - Konvertieren von Notebooks in HTML, PDF etc."
   ]
  },
  {
   "cell_type": "markdown",
   "metadata": {
    "slideshow": {
     "slide_type": "fragment"
    }
   },
   "source": [
    "- Konvertierung von Jupyter-Notebooks\n",
    "- Unterstütze Formate\n",
    "   - PDF\n",
    "   - HTML"
   ]
  },
  {
   "cell_type": "code",
   "execution_count": 16,
   "metadata": {
    "ExecuteTime": {
     "end_time": "2019-11-21T19:53:55.830365Z",
     "start_time": "2019-11-21T19:53:55.827227Z"
    },
    "slideshow": {
     "slide_type": "fragment"
    }
   },
   "outputs": [],
   "source": [
    "#!jupyter nbconvert --to slides JupyterNotebook-meets-5TeamWeekly.ipynb --post serve"
   ]
  },
  {
   "cell_type": "markdown",
   "metadata": {
    "slideshow": {
     "slide_type": "fragment"
    }
   },
   "source": [
    "- HTML-Ausgabe `http://127.0.0.1:8000/JupyterNotebook-meets-5TeamWeekly.slides.html#/`\n",
    "- PDF-Ausgabe `http://127.0.0.1:8000/JupyterNotebook-meets-5TeamWeekly.slides.html?print-pdf`"
   ]
  },
  {
   "cell_type": "markdown",
   "metadata": {
    "slideshow": {
     "slide_type": "subslide"
    }
   },
   "source": [
    "## Zenmode"
   ]
  },
  {
   "cell_type": "markdown",
   "metadata": {
    "ExecuteTime": {
     "start_time": "2019-10-24T21:31:31.616Z"
    },
    "slideshow": {
     "slide_type": "fragment"
    }
   },
   "source": [
    "- ausblenden aller unötigen Informationen\n",
    "- Fokus aus den Inhalt des Notebooks\n",
    "\n",
    "**DEMO**"
   ]
  },
  {
   "cell_type": "markdown",
   "metadata": {
    "slideshow": {
     "slide_type": "subslide"
    }
   },
   "source": [
    "## Verwaltung von Erweiterungen"
   ]
  },
  {
   "cell_type": "markdown",
   "metadata": {
    "slideshow": {
     "slide_type": "fragment"
    }
   },
   "source": [
    "- [*jupyter_contrib_nbextensions*](https://github.com/ipython-contrib/jupyter_contrib_nbextensions) ... als Sammlung, der wichtigsten Erweiterungen\n",
    "- [*jupyter_nbextensions_configurator*](https://github.com/Jupyter-contrib/jupyter_nbextensions_configurator) ... als Manager um die Erweiterungen via Weboberfläche zu verwalten und zu konfigurieren"
   ]
  },
  {
   "cell_type": "markdown",
   "metadata": {
    "slideshow": {
     "slide_type": "subslide"
    }
   },
   "source": [
    "# Ein paar nicht gezeigte Erweiterungen\n",
    "\n",
    "- [ag-Grid](https://www.ag-grid.com/): *The Best JavaScript Grid in the World* [mit Juypter-Integration](https://medium.com/@olivier.borderies/harnessing-the-power-of-ag-grid-in-jupyter-3ae27fb21012)\n",
    "- [voilà](https://blog.jupyter.org/and-voil%C3%A0-f6a2c08a4a93) *turns Jupyter notebooks into standalone web applications*\n",
    "- [OAuth2 from inside a Jupyter Notebook](https://medium.com/@olivier.borderies/oauth2-from-inside-a-jupyter-notebook-5f5e61ec5d38) mit Google und Auth0\n"
   ]
  },
  {
   "cell_type": "markdown",
   "metadata": {
    "slideshow": {
     "slide_type": "slide"
    }
   },
   "source": [
    "# Die Zukunft vom Projekt **Jupyter**"
   ]
  },
  {
   "cell_type": "markdown",
   "metadata": {
    "slideshow": {
     "slide_type": "subslide"
    }
   },
   "source": [
    "## Jupyterlab - der Nachfolger von Jupyter-Notebook"
   ]
  },
  {
   "cell_type": "markdown",
   "metadata": {
    "slideshow": {
     "slide_type": "fragment"
    }
   },
   "source": [
    "- flexible, integriert und erweiterbar \n",
    "- Dokumenten und Aktivitäten wie Jupyter-Notebooks, Texteditoren, Terminals und benutzerdefinierten Komponenten\n",
    "- Reiterkarten, mehrere Dokumente und Aktivitäten nebeneinander\n",
    "\n",
    "<div>\n",
    "<img src=\"_assets/interface_jupyterlab.png\" width=\"500\" align=\"center\"/>\n",
    "</div>\n",
    "\n",
    "siehe auch [Jupyter Lab: Evolution of the Jupyter Notebook](https://towardsdatascience.com/jupyter-lab-evolution-of-the-jupyter-notebook-5297cacde6b)"
   ]
  },
  {
   "cell_type": "markdown",
   "metadata": {
    "slideshow": {
     "slide_type": "slide"
    }
   },
   "source": [
    "# Was gibt es sonst noch?"
   ]
  },
  {
   "cell_type": "markdown",
   "metadata": {
    "slideshow": {
     "slide_type": "subslide"
    }
   },
   "source": [
    "## JupyterHub - Opensource und Multiuserfähig"
   ]
  },
  {
   "cell_type": "markdown",
   "metadata": {
    "slideshow": {
     "slide_type": "fragment"
    }
   },
   "source": [
    "- Enterprise-Lösung auf OpenSource-Basis\n",
    "- Multiuser-Umgebungen für Jupyter\n",
    "- je Nutzer wird ein Container zugeordnet (Spawners)\n",
    "- vielfach erweiterbar:\n",
    "  - Autorisierung mittels Kerberos, SAML, OAuth, etc.\n",
    "  - Datenspeicher für den Status der Notebook (SQL-Datenbanken, S3-Storage)\n",
    "  - Verteilung der Container (k8s, YARN/Hadoop, fork, etc.)"
   ]
  },
  {
   "cell_type": "markdown",
   "metadata": {
    "slideshow": {
     "slide_type": "subslide"
    }
   },
   "source": [
    "### JupyterHub - Architektur\n",
    "\n",
    "<hr />\n",
    "<div>\n",
    "<img src=\"_assets/jhub-parts.png\" width=\"500\" align=\"center\"/>\n",
    "</div>"
   ]
  },
  {
   "cell_type": "markdown",
   "metadata": {
    "slideshow": {
     "slide_type": "subslide"
    }
   },
   "source": [
    "## [Pangeo](https://pangeo.io/)\n",
    "\n",
    "Eine, durch die Community geförderte, Wissenschaftsplattform für Datenanalysen basierend auf den vorher genannten Technologien.\n",
    "\n",
    "z.B.:\n",
    "- Klima\n",
    "- Meteorologie\n",
    "- Geowissenschaften\n",
    "\n",
    "Beispiel: [Bewertung der Erhaltung des Wärme- und Salzgehalts in der Southern Ocean State Estimation](https://pangeo.io/use_cases/physical-oceanography/SOSE.html#gallery-use-cases-physical-oceanography-sose-ipynb)"
   ]
  },
  {
   "cell_type": "markdown",
   "metadata": {
    "slideshow": {
     "slide_type": "subslide"
    }
   },
   "source": [
    "## Google Colab - auch Google mischt mit."
   ]
  },
  {
   "cell_type": "markdown",
   "metadata": {
    "slideshow": {
     "slide_type": "fragment"
    }
   },
   "source": [
    "- Jupyter in Google Drive\n",
    "- direkt aus Google Drive zu starten\n",
    "- Umgang mit [Resourcen von Google](https://colab.research.google.com/notebooks/io.ipynb) direkt aus den Notebooks, ohne weitere Anstrengung bei der Autorisierung\n",
    "\n",
    "\n",
    "<hr />\n",
    "<div>\n",
    "<img src=\"_assets/Google-Colabratory.png\" width=\"400\" align=\"center\"/>\n",
    "</div>\n",
    "\n",
    "*Nachteil*: Erweiterbarkeit ist eingeschränkt"
   ]
  },
  {
   "cell_type": "markdown",
   "metadata": {
    "slideshow": {
     "slide_type": "subslide"
    }
   },
   "source": [
    "## Microsoft Azure Notebooks - Was macht Microsoft?"
   ]
  },
  {
   "cell_type": "markdown",
   "metadata": {
    "slideshow": {
     "slide_type": "fragment"
    }
   },
   "source": [
    "- Kostenloses Hosting für Jupyter-Notebooks\n",
    "- Beschränkung auf 4 GB Arbeitsspeicher und 1 GB Daten\n",
    "    - Beschränkung kann durch ein Bezahl-Konto bei Azure aufgehoben werden\n",
    "- Besonderheit: Es gibt ausser Python auch R und F#\n",
    "- [Jede Menge Beispiele und Tutorials](https://docs.microsoft.com/de-de/azure/notebooks/azure-notebooks-overview)"
   ]
  },
  {
   "cell_type": "markdown",
   "metadata": {
    "slideshow": {
     "slide_type": "subslide"
    }
   },
   "source": [
    "## GitHub (Renderer) - Preview innerhalb von Github."
   ]
  },
  {
   "cell_type": "markdown",
   "metadata": {
    "slideshow": {
     "slide_type": "fragment"
    }
   },
   "source": [
    "- seit 2015\n",
    "- direktes *Rendern* von Jupyter-Notebook über die Webseite von GitHub\n",
    "- Basis ist die Verwendung von [nbviewer](https://nbviewer.jupyter.org/)\n",
    "    - nicht alle Erweiterungen werden unterstützt.\n",
    "    - keine JS, CSS, Custom-HTML >> Sicherheitsrisiko\n",
    "    - Indikator zeigt dann eine Umleitung auf den nbviewer an\n",
    "- [Jeder Menge Beispiele](https://github.com/jupyter/jupyter/wiki/A-gallery-of-interesting-Jupyter-Notebooks)"
   ]
  },
  {
   "cell_type": "markdown",
   "metadata": {
    "slideshow": {
     "slide_type": "subslide"
    }
   },
   "source": [
    "## Binder - Git-Repos direkt als Juypter-Notebook ausführen."
   ]
  },
  {
   "cell_type": "markdown",
   "metadata": {
    "slideshow": {
     "slide_type": "fragment"
    }
   },
   "source": [
    "- Ausführen von Notebooks direkt aus einen Git-Repository\n",
    "- Basiert auf Jupyter-Hub\n",
    "- Siehe https://mybinder.org/\n",
    "- Demo mit dieser Präsentation"
   ]
  },
  {
   "cell_type": "markdown",
   "metadata": {
    "slideshow": {
     "slide_type": "subslide"
    }
   },
   "source": [
    "## iOS - auch mobile kann man Jupyter-Notebooks verwenden"
   ]
  },
  {
   "cell_type": "markdown",
   "metadata": {
    "slideshow": {
     "slide_type": "fragment"
    }
   },
   "source": [
    "- **Juno Connect** (*kommerziell*)\n",
    "  - Verbindung zu entfernten Notebook herstellen\n",
    "  - Google Colab wird noch nicht unterstützt\n",
    "- **Juno** (*kommerziell*)\n",
    "  - Lokale Ausführung von Notebooks\n",
    "  - keine Verbindung zu entfernten Notebooks unterstützt\n",
    "- **Carnets** (*OpenSource*)\n",
    "  - Lokale Ausführung von Notebooks\n",
    "  - keine Verbindung zu entfernten Notebooks unterstützt\n",
    "\n",
    "*Juno und Carnets unterstützen das auf iOS-Geräten vorhandene Dateisystem sowie dessen Remote-Dateisysteme.*"
   ]
  },
  {
   "cell_type": "markdown",
   "metadata": {
    "slideshow": {
     "slide_type": "slide"
    }
   },
   "source": [
    "# Fazit"
   ]
  },
  {
   "cell_type": "markdown",
   "metadata": {
    "slideshow": {
     "slide_type": "fragment"
    }
   },
   "source": [
    "- Leistungsfähige interaktive Entwicklungsumgebung (nicht nur für Python)\n",
    "- Verwendung innerhalb der ProcessEngine.ts (demnächst in dieser Show)\n",
    "- Enterprise-Ready durch\n",
    "  - JupyterHub\n",
    "  - Binder\n",
    "- sehr einfach zu verwenden\n",
    "- großer Umfang an Erweiterungen (hier gab es nur die \"Spitze des Eisbergs\")\n",
    "- Hervoragende Integration von\n",
    "  - Code\n",
    "  - Dokumentation"
   ]
  },
  {
   "cell_type": "markdown",
   "metadata": {
    "slideshow": {
     "slide_type": "slide"
    }
   },
   "source": [
    "# Was nun? Starten!"
   ]
  },
  {
   "cell_type": "markdown",
   "metadata": {
    "slideshow": {
     "slide_type": "fragment"
    }
   },
   "source": [
    "**Wo ist die Präsentation ... öhm ... das Juypter-Notebook zu finden?**\n",
    "- https://github.com/moellenbeck/jupyter_at_5minds\n",
    "  - Läuft auf Grund der Erweiterungen nicht auf GitHub\n",
    "  - kann direkt in Binder gestartet werden.\n",
    "  \n",
    "***Viel Spass ;-)***\n",
    "\n",
    "*TODOs:*\n",
    "- Docker?!? ... wir bekommen ein passendes Image\n",
    "  - `docker run -p 8888:8888 5minds/juypter_at_5minds`\n",
    "  - alle Bibliotheken und Voreinstellungen werden dabei installiert sein\n"
   ]
  },
  {
   "cell_type": "markdown",
   "metadata": {
    "slideshow": {
     "slide_type": "slide"
    }
   },
   "source": [
    "# <font color='orange'>D</font><font color='#1B9AC'>anke euch.</font>\n",
    "<hr />\n",
    "<div>\n",
    "<img src=\"_assets/danke2.jpeg\" width=\"700\" align=\"center\"/>\n",
    "</div>"
   ]
  },
  {
   "cell_type": "markdown",
   "metadata": {
    "slideshow": {
     "slide_type": "skip"
    }
   },
   "source": []
  }
 ],
 "metadata": {
  "celltoolbar": "Slideshow",
  "kernelspec": {
   "display_name": "Python 3",
   "language": "python",
   "name": "python3"
  },
  "language_info": {
   "codemirror_mode": {
    "name": "ipython",
    "version": 3
   },
   "file_extension": ".py",
   "mimetype": "text/x-python",
   "name": "python",
   "nbconvert_exporter": "python",
   "pygments_lexer": "ipython3",
   "version": "3.7.4"
  },
  "toc": {
   "base_numbering": 1,
   "nav_menu": {},
   "number_sections": false,
   "sideBar": true,
   "skip_h1_title": false,
   "title_cell": "Table of Contents",
   "title_sidebar": "Jupyter meets 5MindsWeekly",
   "toc_cell": false,
   "toc_position": {
    "height": "calc(100% - 180px)",
    "left": "10px",
    "top": "150px",
    "width": "315px"
   },
   "toc_section_display": true,
   "toc_window_display": false
  }
 },
 "nbformat": 4,
 "nbformat_minor": 2
}
