{
 "cells": [
  {
   "cell_type": "code",
   "execution_count": 1,
   "metadata": {
    "ExecuteTime": {
     "end_time": "2019-10-23T20:53:04.688373Z",
     "start_time": "2019-10-23T20:53:04.681803Z"
    },
    "papermill": {
     "duration": 0.116957,
     "end_time": "2019-10-23T21:08:03.347922",
     "exception": false,
     "start_time": "2019-10-23T21:08:03.230965",
     "status": "completed"
    },
    "tags": []
   },
   "outputs": [],
   "source": [
    "import json\n",
    "import requests"
   ]
  },
  {
   "cell_type": "code",
   "execution_count": 2,
   "metadata": {
    "ExecuteTime": {
     "end_time": "2019-10-23T20:53:04.703613Z",
     "start_time": "2019-10-23T20:53:04.695805Z"
    },
    "papermill": {
     "duration": 0.016796,
     "end_time": "2019-10-23T21:08:03.371079",
     "exception": false,
     "start_time": "2019-10-23T21:08:03.354283",
     "status": "completed"
    },
    "tags": [
     "parameters"
    ]
   },
   "outputs": [],
   "source": [
    "year = 2020"
   ]
  },
  {
   "cell_type": "code",
   "execution_count": 4,
   "metadata": {
    "ExecuteTime": {
     "end_time": "2019-10-23T20:53:04.735491Z",
     "start_time": "2019-10-23T20:53:04.711776Z"
    },
    "papermill": {
     "duration": 0.013587,
     "end_time": "2019-10-23T21:08:03.411994",
     "exception": false,
     "start_time": "2019-10-23T21:08:03.398407",
     "status": "completed"
    },
    "tags": []
   },
   "outputs": [],
   "source": [
    "url = 'https://feiertage-api.de/api/?jahr={year}'.format(year=year)"
   ]
  },
  {
   "cell_type": "code",
   "execution_count": 5,
   "metadata": {
    "ExecuteTime": {
     "end_time": "2019-10-23T20:53:05.259530Z",
     "start_time": "2019-10-23T20:53:04.744489Z"
    },
    "papermill": {
     "duration": 1.106212,
     "end_time": "2019-10-23T21:08:04.523500",
     "exception": false,
     "start_time": "2019-10-23T21:08:03.417288",
     "status": "completed"
    },
    "tags": []
   },
   "outputs": [],
   "source": [
    "request_freedays = requests.get(url)\n",
    "str_data = request_freedays.content.decode(\"utf-8\")\n",
    "freedays = json.loads(str_data)"
   ]
  },
  {
   "cell_type": "code",
   "execution_count": 6,
   "metadata": {
    "ExecuteTime": {
     "end_time": "2019-10-23T20:53:05.311645Z",
     "start_time": "2019-10-23T20:53:05.294162Z"
    },
    "papermill": {
     "duration": 0.035064,
     "end_time": "2019-10-23T21:08:04.565507",
     "exception": false,
     "start_time": "2019-10-23T21:08:04.530443",
     "status": "completed"
    },
    "tags": []
   },
   "outputs": [
    {
     "name": "stdout",
     "output_type": "stream",
     "text": [
      "Neujahrstag: {'datum': '2021-01-01', 'hinweis': ''}\n",
      "Karfreitag: {'datum': '2021-04-02', 'hinweis': ''}\n",
      "Ostermontag: {'datum': '2021-04-05', 'hinweis': ''}\n",
      "Tag der Arbeit: {'datum': '2021-05-01', 'hinweis': ''}\n",
      "Christi Himmelfahrt: {'datum': '2021-05-13', 'hinweis': ''}\n",
      "Pfingstmontag: {'datum': '2021-05-24', 'hinweis': ''}\n",
      "Fronleichnam: {'datum': '2021-06-03', 'hinweis': ''}\n",
      "Tag der Deutschen Einheit: {'datum': '2021-10-03', 'hinweis': ''}\n",
      "Allerheiligen: {'datum': '2021-11-01', 'hinweis': ''}\n",
      "1. Weihnachtstag: {'datum': '2021-12-25', 'hinweis': ''}\n",
      "2. Weihnachtstag: {'datum': '2021-12-26', 'hinweis': ''}\n"
     ]
    }
   ],
   "source": [
    "#print(freedays['NW'])\n",
    "\n",
    "for key in freedays['NW'].keys():\n",
    "    print(\"{}: {}\".format(key, freedays['NW'][key]))"
   ]
  },
  {
   "cell_type": "code",
   "execution_count": null,
   "metadata": {
    "papermill": {
     "duration": 0.020885,
     "end_time": "2019-10-23T21:08:04.598101",
     "exception": false,
     "start_time": "2019-10-23T21:08:04.577216",
     "status": "completed"
    },
    "tags": []
   },
   "outputs": [],
   "source": []
  }
 ],
 "metadata": {
  "celltoolbar": "Tags",
  "kernelspec": {
   "display_name": "Python 3",
   "language": "python",
   "name": "python3"
  },
  "language_info": {
   "codemirror_mode": {
    "name": "ipython",
    "version": 3
   },
   "file_extension": ".py",
   "mimetype": "text/x-python",
   "name": "python",
   "nbconvert_exporter": "python",
   "pygments_lexer": "ipython3",
   "version": "3.7.4"
  },
  "papermill": {
   "duration": 2.610094,
   "end_time": "2019-10-23T21:08:04.929126",
   "environment_variables": {},
   "exception": null,
   "input_path": "papermill_sample/papermill_freedays_input.ipynb",
   "output_path": "papermill_sample/papermill_freedays_input.ipynb",
   "parameters": {
    "year": 2021
   },
   "start_time": "2019-10-23T21:08:02.319032",
   "version": "1.0.1"
  },
  "toc": {
   "base_numbering": 1,
   "nav_menu": {},
   "number_sections": true,
   "sideBar": true,
   "skip_h1_title": false,
   "title_cell": "Table of Contents",
   "title_sidebar": "Contents",
   "toc_cell": false,
   "toc_position": {},
   "toc_section_display": true,
   "toc_window_display": false
  }
 },
 "nbformat": 4,
 "nbformat_minor": 2
}
