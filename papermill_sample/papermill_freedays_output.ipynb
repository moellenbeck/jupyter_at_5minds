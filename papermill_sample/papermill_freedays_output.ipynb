{
 "cells": [
  {
   "cell_type": "code",
   "execution_count": 1,
   "metadata": {
    "ExecuteTime": {
     "end_time": "2019-11-20T13:47:47.691043Z",
     "start_time": "2019-11-20T13:47:47.684815Z"
    },
    "papermill": {
     "duration": 0.113837,
     "end_time": "2019-11-29T07:26:19.517121",
     "exception": false,
     "start_time": "2019-11-29T07:26:19.403284",
     "status": "completed"
    },
    "tags": []
   },
   "outputs": [],
   "source": [
    "import json\n",
    "import requests"
   ]
  },
  {
   "cell_type": "code",
   "execution_count": 2,
   "metadata": {
    "ExecuteTime": {
     "end_time": "2019-11-20T13:47:47.705470Z",
     "start_time": "2019-11-20T13:47:47.700130Z"
    },
    "papermill": {
     "duration": 0.017429,
     "end_time": "2019-11-29T07:26:19.542772",
     "exception": false,
     "start_time": "2019-11-29T07:26:19.525343",
     "status": "completed"
    },
    "tags": [
     "parameters"
    ]
   },
   "outputs": [],
   "source": [
    "year = 2021"
   ]
  },
  {
   "cell_type": "code",
   "execution_count": 3,
   "metadata": {
    "papermill": {
     "duration": 0.016344,
     "end_time": "2019-11-29T07:26:19.568636",
     "exception": false,
     "start_time": "2019-11-29T07:26:19.552292",
     "status": "completed"
    },
    "tags": [
     "injected-parameters"
    ]
   },
   "outputs": [],
   "source": [
    "# Parameters\n",
    "year = 2020\n"
   ]
  },
  {
   "cell_type": "code",
   "execution_count": 4,
   "metadata": {
    "ExecuteTime": {
     "end_time": "2019-11-20T13:47:47.730921Z",
     "start_time": "2019-11-20T13:47:47.715667Z"
    },
    "papermill": {
     "duration": 0.016039,
     "end_time": "2019-11-29T07:26:19.589945",
     "exception": false,
     "start_time": "2019-11-29T07:26:19.573906",
     "status": "completed"
    },
    "tags": []
   },
   "outputs": [],
   "source": [
    "url = 'https://feiertage-api.de/api/?jahr={year}'.format(year=year)"
   ]
  },
  {
   "cell_type": "code",
   "execution_count": 5,
   "metadata": {
    "ExecuteTime": {
     "end_time": "2019-11-20T13:47:47.841667Z",
     "start_time": "2019-11-20T13:47:47.737741Z"
    },
    "papermill": {
     "duration": 0.241254,
     "end_time": "2019-11-29T07:26:19.838858",
     "exception": false,
     "start_time": "2019-11-29T07:26:19.597604",
     "status": "completed"
    },
    "tags": []
   },
   "outputs": [],
   "source": [
    "request_freedays = requests.get(url)\n",
    "str_data = request_freedays.content.decode(\"utf-8\")\n",
    "freedays = json.loads(str_data)"
   ]
  },
  {
   "cell_type": "code",
   "execution_count": 6,
   "metadata": {
    "ExecuteTime": {
     "end_time": "2019-11-20T13:47:47.860193Z",
     "start_time": "2019-11-20T13:47:47.847790Z"
    },
    "papermill": {
     "duration": 0.021205,
     "end_time": "2019-11-29T07:26:19.868246",
     "exception": false,
     "start_time": "2019-11-29T07:26:19.847041",
     "status": "completed"
    },
    "tags": []
   },
   "outputs": [
    {
     "name": "stdout",
     "output_type": "stream",
     "text": [
      "Neujahrstag: {'datum': '2020-01-01', 'hinweis': ''}\n",
      "Karfreitag: {'datum': '2020-04-10', 'hinweis': ''}\n",
      "Ostermontag: {'datum': '2020-04-13', 'hinweis': ''}\n",
      "Tag der Arbeit: {'datum': '2020-05-01', 'hinweis': ''}\n",
      "Christi Himmelfahrt: {'datum': '2020-05-21', 'hinweis': ''}\n",
      "Pfingstmontag: {'datum': '2020-06-01', 'hinweis': ''}\n",
      "Fronleichnam: {'datum': '2020-06-11', 'hinweis': ''}\n",
      "Tag der Deutschen Einheit: {'datum': '2020-10-03', 'hinweis': ''}\n",
      "Allerheiligen: {'datum': '2020-11-01', 'hinweis': ''}\n",
      "1. Weihnachtstag: {'datum': '2020-12-25', 'hinweis': ''}\n",
      "2. Weihnachtstag: {'datum': '2020-12-26', 'hinweis': ''}\n"
     ]
    }
   ],
   "source": [
    "#print(freedays['NW'])\n",
    "\n",
    "for key in freedays['NW'].keys():\n",
    "    print(\"{}: {}\".format(key, freedays['NW'][key]))"
   ]
  },
  {
   "cell_type": "code",
   "execution_count": null,
   "metadata": {
    "papermill": {
     "duration": 0.005484,
     "end_time": "2019-11-29T07:26:19.879329",
     "exception": false,
     "start_time": "2019-11-29T07:26:19.873845",
     "status": "completed"
    },
    "tags": []
   },
   "outputs": [],
   "source": []
  }
 ],
 "metadata": {
  "celltoolbar": "Tags",
  "kernelspec": {
   "display_name": "Python 3",
   "language": "python",
   "name": "python3"
  },
  "language_info": {
   "codemirror_mode": {
    "name": "ipython",
    "version": 3
   },
   "file_extension": ".py",
   "mimetype": "text/x-python",
   "name": "python",
   "nbconvert_exporter": "python",
   "pygments_lexer": "ipython3",
   "version": "3.7.4"
  },
  "papermill": {
   "duration": 1.697302,
   "end_time": "2019-11-29T07:26:20.198464",
   "environment_variables": {},
   "exception": null,
   "input_path": "papermill_sample/papermill_freedays_input.ipynb",
   "output_path": "papermill_sample/papermill_freedays_output.ipynb",
   "parameters": {
    "year": 2020
   },
   "start_time": "2019-11-29T07:26:18.501162",
   "version": "1.0.1"
  },
  "toc": {
   "base_numbering": 1,
   "nav_menu": {},
   "number_sections": true,
   "sideBar": true,
   "skip_h1_title": false,
   "title_cell": "Table of Contents",
   "title_sidebar": "Contents",
   "toc_cell": false,
   "toc_position": {},
   "toc_section_display": true,
   "toc_window_display": false
  }
 },
 "nbformat": 4,
 "nbformat_minor": 2
}
