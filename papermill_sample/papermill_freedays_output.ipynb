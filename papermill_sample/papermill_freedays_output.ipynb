{
 "cells": [
  {
   "cell_type": "code",
   "execution_count": 1,
   "metadata": {
    "ExecuteTime": {
     "end_time": "2019-10-23T21:09:30.731094Z",
     "start_time": "2019-10-23T21:09:30.522990Z"
    },
    "papermill": {
     "duration": 0.143235,
     "end_time": "2019-10-28T12:32:21.201887",
     "exception": false,
     "start_time": "2019-10-28T12:32:21.058652",
     "status": "completed"
    },
    "tags": []
   },
   "outputs": [],
   "source": [
    "import json\n",
    "import requests"
   ]
  },
  {
   "cell_type": "code",
   "execution_count": 2,
   "metadata": {
    "ExecuteTime": {
     "end_time": "2019-10-23T21:09:30.765720Z",
     "start_time": "2019-10-23T21:09:30.756608Z"
    },
    "papermill": {
     "duration": 0.015775,
     "end_time": "2019-10-28T12:32:21.224739",
     "exception": false,
     "start_time": "2019-10-28T12:32:21.208964",
     "status": "completed"
    },
    "tags": [
     "parameters"
    ]
   },
   "outputs": [],
   "source": [
    "year = 2020"
   ]
  },
  {
   "cell_type": "code",
   "execution_count": 3,
   "metadata": {
    "papermill": {
     "duration": 0.013774,
     "end_time": "2019-10-28T12:32:21.243860",
     "exception": false,
     "start_time": "2019-10-28T12:32:21.230086",
     "status": "completed"
    },
    "tags": [
     "injected-parameters"
    ]
   },
   "outputs": [],
   "source": [
    "# Parameters\n",
    "year = 2021\n"
   ]
  },
  {
   "cell_type": "code",
   "execution_count": 4,
   "metadata": {
    "ExecuteTime": {
     "end_time": "2019-10-23T21:09:30.781077Z",
     "start_time": "2019-10-23T21:09:30.778081Z"
    },
    "papermill": {
     "duration": 0.015043,
     "end_time": "2019-10-28T12:32:21.264167",
     "exception": false,
     "start_time": "2019-10-28T12:32:21.249124",
     "status": "completed"
    },
    "tags": []
   },
   "outputs": [],
   "source": [
    "url = 'https://feiertage-api.de/api/?jahr={year}'.format(year=year)"
   ]
  },
  {
   "cell_type": "code",
   "execution_count": 5,
   "metadata": {
    "ExecuteTime": {
     "end_time": "2019-10-23T21:09:31.213728Z",
     "start_time": "2019-10-23T21:09:30.790670Z"
    },
    "papermill": {
     "duration": 0.109351,
     "end_time": "2019-10-28T12:32:21.378720",
     "exception": false,
     "start_time": "2019-10-28T12:32:21.269369",
     "status": "completed"
    },
    "tags": []
   },
   "outputs": [],
   "source": [
    "request_freedays = requests.get(url)\n",
    "str_data = request_freedays.content.decode(\"utf-8\")\n",
    "freedays = json.loads(str_data)"
   ]
  },
  {
   "cell_type": "code",
   "execution_count": 6,
   "metadata": {
    "ExecuteTime": {
     "end_time": "2019-10-23T21:09:31.236966Z",
     "start_time": "2019-10-23T21:09:31.216852Z"
    },
    "papermill": {
     "duration": 0.025119,
     "end_time": "2019-10-28T12:32:21.416306",
     "exception": false,
     "start_time": "2019-10-28T12:32:21.391187",
     "status": "completed"
    },
    "tags": []
   },
   "outputs": [
    {
     "name": "stdout",
     "output_type": "stream",
     "text": [
      "Neujahrstag: {'datum': '2021-01-01', 'hinweis': ''}\n",
      "Karfreitag: {'datum': '2021-04-02', 'hinweis': ''}\n",
      "Ostermontag: {'datum': '2021-04-05', 'hinweis': ''}\n",
      "Tag der Arbeit: {'datum': '2021-05-01', 'hinweis': ''}\n",
      "Christi Himmelfahrt: {'datum': '2021-05-13', 'hinweis': ''}\n",
      "Pfingstmontag: {'datum': '2021-05-24', 'hinweis': ''}\n",
      "Fronleichnam: {'datum': '2021-06-03', 'hinweis': ''}\n",
      "Tag der Deutschen Einheit: {'datum': '2021-10-03', 'hinweis': ''}\n",
      "Allerheiligen: {'datum': '2021-11-01', 'hinweis': ''}\n",
      "1. Weihnachtstag: {'datum': '2021-12-25', 'hinweis': ''}\n",
      "2. Weihnachtstag: {'datum': '2021-12-26', 'hinweis': ''}\n"
     ]
    }
   ],
   "source": [
    "#print(freedays['NW'])\n",
    "\n",
    "for key in freedays['NW'].keys():\n",
    "    print(\"{}: {}\".format(key, freedays['NW'][key]))"
   ]
  },
  {
   "cell_type": "code",
   "execution_count": null,
   "metadata": {
    "papermill": {
     "duration": 0.010526,
     "end_time": "2019-10-28T12:32:21.432507",
     "exception": false,
     "start_time": "2019-10-28T12:32:21.421981",
     "status": "completed"
    },
    "tags": []
   },
   "outputs": [],
   "source": []
  }
 ],
 "metadata": {
  "celltoolbar": "Tags",
  "kernelspec": {
   "display_name": "Python 3",
   "language": "python",
   "name": "python3"
  },
  "language_info": {
   "codemirror_mode": {
    "name": "ipython",
    "version": 3
   },
   "file_extension": ".py",
   "mimetype": "text/x-python",
   "name": "python",
   "nbconvert_exporter": "python",
   "pygments_lexer": "ipython3",
   "version": "3.7.4"
  },
  "papermill": {
   "duration": 2.182003,
   "end_time": "2019-10-28T12:32:21.770716",
   "environment_variables": {},
   "exception": null,
   "input_path": "papermill_sample/papermill_freedays_input.ipynb",
   "output_path": "papermill_sample/papermill_freedays_output.ipynb",
   "parameters": {
    "year": 2021
   },
   "start_time": "2019-10-28T12:32:19.588713",
   "version": "1.0.1"
  },
  "toc": {
   "base_numbering": 1,
   "nav_menu": {},
   "number_sections": true,
   "sideBar": true,
   "skip_h1_title": false,
   "title_cell": "Table of Contents",
   "title_sidebar": "Contents",
   "toc_cell": false,
   "toc_position": {},
   "toc_section_display": true,
   "toc_window_display": false
  }
 },
 "nbformat": 4,
 "nbformat_minor": 2
}